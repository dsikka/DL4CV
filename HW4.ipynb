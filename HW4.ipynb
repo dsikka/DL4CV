{
  "nbformat": 4,
  "nbformat_minor": 0,
  "metadata": {
    "kernelspec": {
      "name": "python3",
      "display_name": "Python 3"
    },
    "language_info": {
      "codemirror_mode": {
        "name": "ipython",
        "version": 3
      },
      "file_extension": ".py",
      "mimetype": "text/x-python",
      "name": "python",
      "nbconvert_exporter": "python",
      "pygments_lexer": "ipython3",
      "version": "3.6.8"
    },
    "colab": {
      "name": "HW4.ipynb",
      "provenance": [],
      "collapsed_sections": [
        "DYGVabklXG0j"
      ]
    },
    "accelerator": "GPU"
  },
  "cells": [
    {
      "cell_type": "markdown",
      "metadata": {
        "id": "_RCviMrZXGyP",
        "colab_type": "text"
      },
      "source": [
        "# Deep Learning for Computer Vision:  HW 4"
      ]
    },
    {
      "cell_type": "markdown",
      "metadata": {
        "id": "ZbPqDDNJXGyU",
        "colab_type": "text"
      },
      "source": [
        "## Computer Science: COMS W 4995 007"
      ]
    },
    {
      "cell_type": "markdown",
      "metadata": {
        "id": "3wL_vEn5XGyX",
        "colab_type": "text"
      },
      "source": [
        "### Due: October 31, 2019\n",
        "\n",
        "### Problem"
      ]
    },
    {
      "cell_type": "markdown",
      "metadata": {
        "id": "2tTDNGmFXGyZ",
        "colab_type": "text"
      },
      "source": [
        "In this notebook we provide three networks for classifying handwritten digits from the MNIST dataset. The networks are implemented and tested using the Tensorflow framework. The third and final network is a convolutional neural network (CNN aka ConvNet) which achieves 99.25% accuracy on this dataset. \n",
        "\n",
        "Your task is to re-implement all three networks using Pytorch. You will likely find several Pytorch implementations on the internet. It is ok to study these. However, you must not cut and paste this code into your assignment--you must write this yourself. Furthermore, you need to comment every line of code and succintly explain what it is doing! \n",
        "\n",
        "Here is what is required:\n",
        "\n",
        "a) A FULLY commented re-implementation of the networks below using the Pytorch.\n",
        "\n",
        "b) your network trained on the same MNIST data as used here.\n",
        "\n",
        "c) an evaluation of the accuracy on the MNIST test set.\n",
        "\n",
        "d) plots of 10 randomly selected digits from the test set along with the correct label and the assigned label.\n",
        "\n",
        "e) have your training record a log of the validation loss and validation accuracy. \n",
        "\n",
        "f) have your training continually save the best model so far (as determined by the validation loss).\n",
        "\n",
        "g) after training, load the saved weights using the best model so far. re-run you accuracy evaluation using these saved weights.\n",
        "\n",
        "Below we include the Tensorflow examples shown in class."
      ]
    },
    {
      "cell_type": "markdown",
      "metadata": {
        "id": "BYXzgRM2XGyc",
        "colab_type": "text"
      },
      "source": [
        "### A Simple Convolutional Neural Network in Tensorflow"
      ]
    },
    {
      "cell_type": "markdown",
      "metadata": {
        "id": "NVDfDeEKXGyg",
        "colab_type": "text"
      },
      "source": [
        "This notebook covers a python and tensorflow-based solution to the handwritten digits recognition problem. It is based on tensorflow tutorials and Yann LeCun's early work on CNN's. This toturial compares a simple softmax regressor, a multi-layer perceptron (MLP), and a simple convolutional neural network (CNN)."
      ]
    },
    {
      "cell_type": "markdown",
      "metadata": {
        "id": "2iWIyknKXGyh",
        "colab_type": "text"
      },
      "source": [
        "Load in the MNIST digit dataset directly from tensorflow examples."
      ]
    },
    {
      "cell_type": "code",
      "metadata": {
        "id": "8mQdvlWFXGyr",
        "colab_type": "code",
        "colab": {},
        "outputId": "5f7c72ce-8c0a-43aa-f37a-1d95e3e92d55"
      },
      "source": [
        "from tensorflow.examples.tutorials.mnist import input_data\n",
        "mnist = input_data.read_data_sets('MNIST_data', one_hot=True)"
      ],
      "execution_count": 0,
      "outputs": [
        {
          "output_type": "stream",
          "text": [
            "Extracting MNIST_data/train-images-idx3-ubyte.gz\n",
            "Extracting MNIST_data/train-labels-idx1-ubyte.gz\n",
            "Extracting MNIST_data/t10k-images-idx3-ubyte.gz\n",
            "Extracting MNIST_data/t10k-labels-idx1-ubyte.gz\n"
          ],
          "name": "stdout"
        }
      ]
    },
    {
      "cell_type": "markdown",
      "metadata": {
        "id": "u7noN5LyXGy0",
        "colab_type": "text"
      },
      "source": [
        "The MNIST data is split into three parts: 55,000 data points of training data (mnist.train), 10,000 points of test data (mnist.test), and 5,000 points of validation data (mnist.validation). "
      ]
    },
    {
      "cell_type": "markdown",
      "metadata": {
        "id": "sGErV2EfXGy2",
        "colab_type": "text"
      },
      "source": [
        "Let's import tensorflow and begin an interactive session."
      ]
    },
    {
      "cell_type": "code",
      "metadata": {
        "id": "07l88C-rXGy6",
        "colab_type": "code",
        "colab": {}
      },
      "source": [
        "import tensorflow as tf\n",
        "sess = tf.InteractiveSession()"
      ],
      "execution_count": 0,
      "outputs": []
    },
    {
      "cell_type": "markdown",
      "metadata": {
        "id": "H2n_DDNbXGzB",
        "colab_type": "text"
      },
      "source": [
        "## Softmax Regression Model on the MNIST Digits Data"
      ]
    },
    {
      "cell_type": "markdown",
      "metadata": {
        "id": "Sb23C_oFXGzD",
        "colab_type": "text"
      },
      "source": [
        "We need to create placeholders for the data. Data will be dumped here when it is batched from the MNIST dataset."
      ]
    },
    {
      "cell_type": "code",
      "metadata": {
        "id": "QMBWPwObXGzE",
        "colab_type": "code",
        "colab": {}
      },
      "source": [
        "x = tf.placeholder(tf.float32, shape=[None, 784])\n",
        "y_ = tf.placeholder(tf.float32, shape=[None, 10])"
      ],
      "execution_count": 0,
      "outputs": []
    },
    {
      "cell_type": "markdown",
      "metadata": {
        "id": "B7Xd3_YqXGzJ",
        "colab_type": "text"
      },
      "source": [
        "Now let's see what this data looks like."
      ]
    },
    {
      "cell_type": "code",
      "metadata": {
        "id": "3AAY6NNGXGzL",
        "colab_type": "code",
        "colab": {},
        "outputId": "ffd6a54c-d0c9-4023-853a-87c6faa9bb96"
      },
      "source": [
        "import matplotlib.pyplot as plt\n",
        "import numpy as np\n",
        "\n",
        "for i in range(4):\n",
        "    batch = mnist.test.next_batch(1)\n",
        "    image = np.asarray(batch[0]).reshape((28, 28))\n",
        "    label = batch[1]\n",
        "    \n",
        "    plt.imshow(image)\n",
        "    plt.axis(\"off\")\n",
        "    plt.show()"
      ],
      "execution_count": 0,
      "outputs": [
        {
          "output_type": "display_data",
          "data": {
            "image/png": "[encoded data removed]",
            "text/plain": [
              "<matplotlib.figure.Figure at 0x10dae8ed0>"
            ]
          },
          "metadata": {
            "tags": []
          }
        },
        {
          "output_type": "display_data",
          "data": {
            "image/png": "[encoded data removed]",
            "text/plain": [
              "<matplotlib.figure.Figure at 0x113a93fd0>"
            ]
          },
          "metadata": {
            "tags": []
          }
        },
        {
          "output_type": "display_data",
          "data": {
            "image/png": "[encoded data removed]",
            "text/plain": [
              "<matplotlib.figure.Figure at 0x113c36bd0>"
            ]
          },
          "metadata": {
            "tags": []
          }
        },
        {
          "output_type": "display_data",
          "data": {
            "image/png": "[encoded data removed]",
            "text/plain": [
              "<matplotlib.figure.Figure at 0x113ccc2d0>"
            ]
          },
          "metadata": {
            "tags": []
          }
        }
      ]
    },
    {
      "cell_type": "markdown",
      "metadata": {
        "id": "kexkRCTsXGzV",
        "colab_type": "text"
      },
      "source": [
        "We are first going to do softmax logistic regression. This is a linear layer followed by softmax. Note there are NO hidden layers here. Also note that the digit images (28x28 grayscale images) are reshaped into a 784 element vector. "
      ]
    },
    {
      "cell_type": "markdown",
      "metadata": {
        "id": "LVlGyewPXGzX",
        "colab_type": "text"
      },
      "source": [
        "Below we create the parameters (weights) for our linear layer."
      ]
    },
    {
      "cell_type": "code",
      "metadata": {
        "id": "adMOQbLjXGzZ",
        "colab_type": "code",
        "colab": {}
      },
      "source": [
        "W = tf.Variable(tf.zeros([784,10]))\n",
        "b = tf.Variable(tf.zeros([10]))"
      ],
      "execution_count": 0,
      "outputs": []
    },
    {
      "cell_type": "markdown",
      "metadata": {
        "id": "OC0HQMqRXGzh",
        "colab_type": "text"
      },
      "source": [
        "We then use tensorflows initializer to initialize these weights."
      ]
    },
    {
      "cell_type": "code",
      "metadata": {
        "id": "_G_-L70fXGzj",
        "colab_type": "code",
        "colab": {}
      },
      "source": [
        "sess.run(tf.global_variables_initializer())"
      ],
      "execution_count": 0,
      "outputs": []
    },
    {
      "cell_type": "markdown",
      "metadata": {
        "id": "JpcERlRPXGzs",
        "colab_type": "text"
      },
      "source": [
        "We create our linear layer as a function of the input and the weights."
      ]
    },
    {
      "cell_type": "code",
      "metadata": {
        "id": "0HCMt6PlXGzt",
        "colab_type": "code",
        "colab": {}
      },
      "source": [
        "y_regressor = tf.matmul(x,W) + b"
      ],
      "execution_count": 0,
      "outputs": []
    },
    {
      "cell_type": "markdown",
      "metadata": {
        "id": "RUSg_tFaXGzy",
        "colab_type": "text"
      },
      "source": [
        "Below we create our loss function. Note that the cross entropy is $ H_{\\hat{y}}(y) = -\\sum_i \\hat{y}_{i} \\, \\log(y_{i})$ where $\\hat{y}$ is the true probability distribution and is expressed as a one-hot vector, $y$ is the estimated probability distribution, and $i$ indexes elements of these two vectors. Also note that this reduces to $ H_{\\hat{y}}(y) = -\\, \\log(y_{i^*})$ where $i^*$ is the correct label. And if we sum this over all of our samples indexed by $j$, then $H_{\\hat{y}}(y) = -\\sum_j  \\log(y^{(j)}_{i^*})$. This is precisely the same loss function as we used before, but we called the MLE loss. They are one and the same."
      ]
    },
    {
      "cell_type": "code",
      "metadata": {
        "id": "LMWYjBT3XGzy",
        "colab_type": "code",
        "colab": {}
      },
      "source": [
        "cross_entropy = tf.reduce_mean(\n",
        "    tf.nn.softmax_cross_entropy_with_logits(labels=y_, logits=y_regressor))"
      ],
      "execution_count": 0,
      "outputs": []
    },
    {
      "cell_type": "markdown",
      "metadata": {
        "id": "UBEr47A2XGz3",
        "colab_type": "text"
      },
      "source": [
        "Now we tell tf to use gradient descent with a step size of 0.5 and to minimize the cross entropy."
      ]
    },
    {
      "cell_type": "code",
      "metadata": {
        "id": "HZ-Ew12ZXGz5",
        "colab_type": "code",
        "colab": {}
      },
      "source": [
        "train_step = tf.train.GradientDescentOptimizer(0.5).minimize(cross_entropy)"
      ],
      "execution_count": 0,
      "outputs": []
    },
    {
      "cell_type": "markdown",
      "metadata": {
        "id": "_3uyXEWyXG0A",
        "colab_type": "text"
      },
      "source": [
        "We train by grabbing mini-batches with 100 samples each and pushing these through the network to update our weights (W and b)."
      ]
    },
    {
      "cell_type": "code",
      "metadata": {
        "id": "kQ8vl2GPXG0C",
        "colab_type": "code",
        "colab": {}
      },
      "source": [
        "for _ in range(1000):\n",
        "  batch = mnist.train.next_batch(100)\n",
        "  train_step.run(feed_dict={x: batch[0], y_: batch[1]})"
      ],
      "execution_count": 0,
      "outputs": []
    },
    {
      "cell_type": "markdown",
      "metadata": {
        "id": "JG8Gxy-FXG0J",
        "colab_type": "text"
      },
      "source": [
        "We define how to compute correct predicitions."
      ]
    },
    {
      "cell_type": "code",
      "metadata": {
        "id": "ibLcuI-CXG0K",
        "colab_type": "code",
        "colab": {}
      },
      "source": [
        "correct_prediction = tf.equal(tf.argmax(y_regressor,1), tf.argmax(y_,1))"
      ],
      "execution_count": 0,
      "outputs": []
    },
    {
      "cell_type": "markdown",
      "metadata": {
        "id": "S3Xr-YN9XG0N",
        "colab_type": "text"
      },
      "source": [
        "And from these correct predictions how to compute the accuracy."
      ]
    },
    {
      "cell_type": "code",
      "metadata": {
        "id": "8UDAJXaVXG0Q",
        "colab_type": "code",
        "colab": {}
      },
      "source": [
        "accuracy = tf.reduce_mean(tf.cast(correct_prediction, tf.float32))"
      ],
      "execution_count": 0,
      "outputs": []
    },
    {
      "cell_type": "code",
      "metadata": {
        "id": "pnurCgtVXG0U",
        "colab_type": "code",
        "colab": {},
        "outputId": "888dfbc5-3f73-489d-c44c-c34c53d3561c"
      },
      "source": [
        "print(accuracy.eval(feed_dict={x: mnist.test.images, y_: mnist.test.labels}))"
      ],
      "execution_count": 0,
      "outputs": [
        {
          "output_type": "stream",
          "text": [
            "0.9192\n"
          ],
          "name": "stdout"
        }
      ]
    },
    {
      "cell_type": "markdown",
      "metadata": {
        "id": "OftfxflTXG0Y",
        "colab_type": "text"
      },
      "source": [
        "Let's print out some test images and the corresponsing predictions made by the network. But first, let's add an output to the computation graph that computes the softmax probabilities."
      ]
    },
    {
      "cell_type": "code",
      "metadata": {
        "id": "ZvToPFdzXG0a",
        "colab_type": "code",
        "colab": {}
      },
      "source": [
        "y_probs_regressor = tf.nn.softmax(logits=y_regressor, name=None)"
      ],
      "execution_count": 0,
      "outputs": []
    },
    {
      "cell_type": "code",
      "metadata": {
        "scrolled": false,
        "id": "OLXs538MXG0e",
        "colab_type": "code",
        "colab": {},
        "outputId": "9ee5fd30-21fa-47a8-c6ec-245957cfa756"
      },
      "source": [
        "for i in range(5):\n",
        "    batch = mnist.test.next_batch(1)\n",
        "    image = np.asarray(batch[0]).reshape((28, 28))\n",
        "    label = batch[1]\n",
        "    \n",
        "    plt.imshow(image)\n",
        "    plt.axis(\"off\")\n",
        "    plt.show()\n",
        "    print \"Label = \", label\n",
        "    print \"Class probabilities = \", y_probs_regressor.eval(feed_dict={\n",
        "        x: batch[0], y_: batch[1]})"
      ],
      "execution_count": 0,
      "outputs": [
        {
          "output_type": "display_data",
          "data": {
            "image/png": "[encoded data removed]",
            "text/plain": [
              "<matplotlib.figure.Figure at 0x12772b290>"
            ]
          },
          "metadata": {
            "tags": []
          }
        },
        {
          "output_type": "stream",
          "text": [
            "Label =  [[ 0.  0.  0.  0.  1.  0.  0.  0.  0.  0.]]\n",
            "Class probabilities =  [[  1.67203823e-03   6.03468334e-06   6.42732251e-03   1.87764294e-04\n",
            "    9.26438749e-01   4.59894276e-04   3.28759407e-03   1.33758076e-02\n",
            "    5.87336766e-03   4.22714762e-02]]\n"
          ],
          "name": "stdout"
        },
        {
          "output_type": "display_data",
          "data": {
            "image/png": "[encoded data removed]",
            "text/plain": [
              "<matplotlib.figure.Figure at 0x11058bad0>"
            ]
          },
          "metadata": {
            "tags": []
          }
        },
        {
          "output_type": "stream",
          "text": [
            "Label =  [[ 0.  1.  0.  0.  0.  0.  0.  0.  0.  0.]]\n",
            "Class probabilities =  [[  9.20873049e-07   9.87897158e-01   2.22241855e-03   1.86755520e-03\n",
            "    3.91291178e-05   9.39880556e-05   3.30834628e-05   3.73039884e-03\n",
            "    3.64026078e-03   4.75243636e-04]]\n"
          ],
          "name": "stdout"
        },
        {
          "output_type": "display_data",
          "data": {
            "image/png": "[encoded data removed]",
            "text/plain": [
              "<matplotlib.figure.Figure at 0x11ed9c910>"
            ]
          },
          "metadata": {
            "tags": []
          }
        },
        {
          "output_type": "stream",
          "text": [
            "Label =  [[ 0.  0.  0.  0.  1.  0.  0.  0.  0.  0.]]\n",
            "Class probabilities =  [[  5.94127778e-06   1.63856862e-06   2.03961849e-06   2.16156419e-04\n",
            "    9.74607527e-01   5.81776584e-03   5.42712551e-05   1.18222029e-03\n",
            "    1.06608802e-02   7.45144626e-03]]\n"
          ],
          "name": "stdout"
        },
        {
          "output_type": "display_data",
          "data": {
            "image/png": "[encoded data removed]",
            "text/plain": [
              "<matplotlib.figure.Figure at 0x11ed6d950>"
            ]
          },
          "metadata": {
            "tags": []
          }
        },
        {
          "output_type": "stream",
          "text": [
            "Label =  [[ 0.  0.  0.  0.  0.  0.  0.  0.  0.  1.]]\n",
            "Class probabilities =  [[  1.32794867e-06   3.03926598e-03   1.02855719e-03   3.06596723e-03\n",
            "    1.28692212e-02   9.07216594e-03   2.42878319e-04   1.96316512e-03\n",
            "    6.66321721e-03   9.62054253e-01]]\n"
          ],
          "name": "stdout"
        },
        {
          "output_type": "display_data",
          "data": {
            "image/png": "[encoded data removed]",
            "text/plain": [
              "<matplotlib.figure.Figure at 0x11edb4c90>"
            ]
          },
          "metadata": {
            "tags": []
          }
        },
        {
          "output_type": "stream",
          "text": [
            "Label =  [[ 0.  0.  0.  0.  0.  1.  0.  0.  0.  0.]]\n",
            "Class probabilities =  [[  8.77247099e-03   5.61122533e-06   5.13427751e-03   1.86741403e-07\n",
            "    6.87260833e-03   3.76259210e-03   9.73673403e-01   4.59226328e-07\n",
            "    1.65836595e-03   1.20098288e-04]]\n"
          ],
          "name": "stdout"
        }
      ]
    },
    {
      "cell_type": "markdown",
      "metadata": {
        "id": "DYGVabklXG0j",
        "colab_type": "text"
      },
      "source": [
        "## Softmax Multi-Layer Perceptron on the MNIST Digits Data"
      ]
    },
    {
      "cell_type": "markdown",
      "metadata": {
        "id": "kP2SV3UnXG0k",
        "colab_type": "text"
      },
      "source": [
        "Here we define both weight and bias variables and how they are to be initialized. Note that the weights are are distributed according to a standard normal distribution (mean = 0, std = 0.1). This random initialization helps avoid hidden units get stuck together, as units that start with the same value will be updated identically in the non-convolutional layers. In contrast, the bias variables are set to a small positive number--this is help prevent hidden units from starting out and getting stuck in the zero part of the ReLU. "
      ]
    },
    {
      "cell_type": "code",
      "metadata": {
        "collapsed": true,
        "id": "kJtB9IQ2XG0m",
        "colab_type": "code",
        "colab": {}
      },
      "source": [
        "def weight_variable(shape):\n",
        "  initial = tf.truncated_normal(shape, stddev=0.1)\n",
        "  return tf.Variable(initial)\n",
        "\n",
        "def bias_variable(shape):\n",
        "  initial = tf.constant(0.1, shape=shape)\n",
        "  return tf.Variable(initial)"
      ],
      "execution_count": 0,
      "outputs": []
    },
    {
      "cell_type": "markdown",
      "metadata": {
        "id": "sC7lTPGOXG0p",
        "colab_type": "text"
      },
      "source": [
        "Next we create placeholders for the training data."
      ]
    },
    {
      "cell_type": "code",
      "metadata": {
        "collapsed": true,
        "id": "woTxJzCxXG0p",
        "colab_type": "code",
        "colab": {}
      },
      "source": [
        "x = tf.placeholder(tf.float32, shape=[None, 784])\n",
        "y_ = tf.placeholder(tf.float32, shape=[None, 10])"
      ],
      "execution_count": 0,
      "outputs": []
    },
    {
      "cell_type": "markdown",
      "metadata": {
        "id": "ItxLqw1OXG0t",
        "colab_type": "text"
      },
      "source": [
        "We create the first and only fully connected hidden layer."
      ]
    },
    {
      "cell_type": "code",
      "metadata": {
        "id": "j9ADcbLWXG0v",
        "colab_type": "code",
        "colab": {}
      },
      "source": [
        "W_h = weight_variable([784, 512])\n",
        "b_h = bias_variable([512])\n",
        "h = tf.nn.relu(tf.matmul(x, W_h) + b_h)"
      ],
      "execution_count": 0,
      "outputs": []
    },
    {
      "cell_type": "markdown",
      "metadata": {
        "id": "EJCFoTSjXG0x",
        "colab_type": "text"
      },
      "source": [
        "We create the output layer."
      ]
    },
    {
      "cell_type": "code",
      "metadata": {
        "collapsed": true,
        "id": "RXyJY-aSXG0z",
        "colab_type": "code",
        "colab": {}
      },
      "source": [
        "W_out = weight_variable([512, 10])\n",
        "b_out = bias_variable([10])\n",
        "y_MLP = tf.matmul(h, W_out) + b_out"
      ],
      "execution_count": 0,
      "outputs": []
    },
    {
      "cell_type": "markdown",
      "metadata": {
        "id": "edXeXxccXG0-",
        "colab_type": "text"
      },
      "source": [
        "We again use cross entropy loss on a softmax distribution on the outputs."
      ]
    },
    {
      "cell_type": "code",
      "metadata": {
        "collapsed": true,
        "id": "8zf336V5XG0_",
        "colab_type": "code",
        "colab": {}
      },
      "source": [
        "cross_entropy = tf.reduce_mean(\n",
        "    tf.nn.softmax_cross_entropy_with_logits(labels=y_, logits=y_MLP))"
      ],
      "execution_count": 0,
      "outputs": []
    },
    {
      "cell_type": "markdown",
      "metadata": {
        "id": "A4QQWjIHXG1B",
        "colab_type": "text"
      },
      "source": [
        "For training we choose an Adam learning rate and update rule. We then run this for 20,000 iterations and evaluate our accuracy after training. Note this softmax MLP network does quite a bit bettter than our softmax regressor. The non-linear layer really helps makes sense of the data! But we can do better still..."
      ]
    },
    {
      "cell_type": "code",
      "metadata": {
        "scrolled": false,
        "id": "bk6-33kHXG1C",
        "colab_type": "code",
        "colab": {},
        "outputId": "ea2bbc3f-c136-4c5c-8e8b-566e535c2d34"
      },
      "source": [
        "train_step = tf.train.AdamOptimizer(1e-4).minimize(cross_entropy)\n",
        "correct_prediction = tf.equal(tf.argmax(y_MLP,1), tf.argmax(y_,1))\n",
        "accuracy = tf.reduce_mean(tf.cast(correct_prediction, tf.float32))\n",
        "sess.run(tf.global_variables_initializer())\n",
        "for i in range(20000):\n",
        "  batch = mnist.train.next_batch(50)\n",
        "  if i%1000 == 0:\n",
        "    train_accuracy = accuracy.eval(feed_dict={\n",
        "        x:batch[0], y_: batch[1]})\n",
        "    print(\"step %d, training accuracy %g\"%(i, train_accuracy))\n",
        "  train_step.run(feed_dict={x: batch[0], y_: batch[1]})\n",
        "\n",
        "print(\"test accuracy %g\"%accuracy.eval(feed_dict={\n",
        "    x: mnist.test.images, y_: mnist.test.labels}))"
      ],
      "execution_count": 0,
      "outputs": [
        {
          "output_type": "stream",
          "text": [
            "step 0, training accuracy 0.2\n",
            "step 1000, training accuracy 0.9\n",
            "step 2000, training accuracy 0.9\n",
            "step 3000, training accuracy 0.98\n",
            "step 4000, training accuracy 0.98\n",
            "step 5000, training accuracy 0.94\n",
            "step 6000, training accuracy 0.96\n",
            "step 7000, training accuracy 1\n",
            "step 8000, training accuracy 0.96\n",
            "step 9000, training accuracy 1\n",
            "step 10000, training accuracy 0.98\n",
            "step 11000, training accuracy 1\n",
            "step 12000, training accuracy 0.94\n",
            "step 13000, training accuracy 0.98\n",
            "step 14000, training accuracy 1\n",
            "step 15000, training accuracy 0.96\n",
            "step 16000, training accuracy 0.96\n",
            "step 17000, training accuracy 0.98\n",
            "step 18000, training accuracy 1\n",
            "step 19000, training accuracy 0.96\n",
            "test accuracy 0.9779\n"
          ],
          "name": "stdout"
        }
      ]
    },
    {
      "cell_type": "markdown",
      "metadata": {
        "id": "oD5JiTzrXG1F",
        "colab_type": "text"
      },
      "source": [
        "## A Simple Convolutional Neural Network: LeNet"
      ]
    },
    {
      "cell_type": "markdown",
      "metadata": {
        "id": "lUECGuDkXG1G",
        "colab_type": "text"
      },
      "source": [
        "Here we make our first CNN. It's quite simple network, but it's surprisingly good at this handwritten digit recognition task. This a variant on Yann LeCun's CNN network that really helped to move deep learning forward."
      ]
    },
    {
      "cell_type": "markdown",
      "metadata": {
        "id": "6kbwsttSXG1H",
        "colab_type": "text"
      },
      "source": [
        "We define both weight and bias variables and how they are to be initialized. Note that the weights are are distributed according to a standard normal distribution (mean = 0, std = 0.1). This random initialization helps avoid hidden units get stuck together, as units that start with the same value will be updated identically in the non-convolutional layers. In contrast, the bias variables are set to a small positive number--this is help prevent hidden units from starting out and getting stuck in the zero part of the ReLu. "
      ]
    },
    {
      "cell_type": "code",
      "metadata": {
        "id": "zcMLlCLFXG1I",
        "colab_type": "code",
        "colab": {}
      },
      "source": [
        "def weight_variable(shape):\n",
        "  initial = tf.truncated_normal(shape, stddev=0.1)\n",
        "  return tf.Variable(initial)\n",
        "\n",
        "def bias_variable(shape):\n",
        "  initial = tf.constant(0.1, shape=shape)\n",
        "  return tf.Variable(initial)"
      ],
      "execution_count": 0,
      "outputs": []
    },
    {
      "cell_type": "markdown",
      "metadata": {
        "id": "o7nWdfcgXG1L",
        "colab_type": "text"
      },
      "source": [
        "Next we define how the convolution is to be computed and the extent and type of pooling. The convolution will use a 5x5 kernel and will pad the image with zeros around the edges and use a stride of 1 pixel so that the resulting image (after convolution) has the same size as the original input image. The network will learn the weights for a stack of 32 separate kernels along with 32 bias variables. Finally, after the ReLu is performed the result will be under go 2x2 max pooling, thus halfing both dimensions of the image. The choices for the stride, padding, and pooling are not parameters that the network needs to estimate. Rather these are termed \"hyperparamters\" that are usually set by the network designer."
      ]
    },
    {
      "cell_type": "code",
      "metadata": {
        "id": "FCrrxMdmXG1L",
        "colab_type": "code",
        "colab": {}
      },
      "source": [
        "def conv2d(x, W):\n",
        "  return tf.nn.conv2d(x, W, strides=[1, 1, 1, 1], padding='SAME')\n",
        "\n",
        "def max_pool_2x2(x):\n",
        "  return tf.nn.max_pool(x, ksize=[1, 2, 2, 1],\n",
        "                        strides=[1, 2, 2, 1], padding='SAME')"
      ],
      "execution_count": 0,
      "outputs": []
    },
    {
      "cell_type": "markdown",
      "metadata": {
        "id": "blA3fNqmXG1O",
        "colab_type": "text"
      },
      "source": [
        "This creates the weight and bias variables for the first convolutional layer as described above. Note the output has depth 32, so there will be 32 feature images after this layer."
      ]
    },
    {
      "cell_type": "code",
      "metadata": {
        "id": "jXur3cjdXG1P",
        "colab_type": "code",
        "colab": {}
      },
      "source": [
        "W_conv1 = weight_variable([5, 5, 1, 32])\n",
        "b_conv1 = bias_variable([32])"
      ],
      "execution_count": 0,
      "outputs": []
    },
    {
      "cell_type": "markdown",
      "metadata": {
        "id": "LOmqD6gDXG1S",
        "colab_type": "text"
      },
      "source": [
        "Unlike for our softmax regressor above, here we need keep the images as images and not collapse these into vectors; this allows us to perform the 2D convolution."
      ]
    },
    {
      "cell_type": "code",
      "metadata": {
        "id": "jYjEvn76XG1T",
        "colab_type": "code",
        "colab": {}
      },
      "source": [
        "x_image = tf.reshape(x, [-1,28,28,1])"
      ],
      "execution_count": 0,
      "outputs": []
    },
    {
      "cell_type": "markdown",
      "metadata": {
        "id": "GwViqMy2XG1W",
        "colab_type": "text"
      },
      "source": [
        "Finally, we define are first layer of our CNN!"
      ]
    },
    {
      "cell_type": "code",
      "metadata": {
        "id": "qPyyyucqXG1W",
        "colab_type": "code",
        "colab": {}
      },
      "source": [
        "h_conv1 = tf.nn.relu(conv2d(x_image, W_conv1) + b_conv1)\n",
        "h_pool1 = max_pool_2x2(h_conv1)"
      ],
      "execution_count": 0,
      "outputs": []
    },
    {
      "cell_type": "markdown",
      "metadata": {
        "id": "dWou2RmwXG1Y",
        "colab_type": "text"
      },
      "source": [
        "And wasting no time, we define are second layer. The second layer will have to process 32 feature images coming out of the first layer. Note that the images input to this layer have $\\frac{1}{4}$ the number of pixels as the original input images due to the 2x2 pooling in the previous layer. Note that convolution layer NOT fully connected as our previous hidden layers have been. A unit in the output layer has a limited \"receptive field.\" Its connections to the input layer are spatially limited by the kernel (or filter) size. Also, because of weight sharing in convolutional layers, the number of parameters for a convolutional is the size of the kernel x the depth of the input layer x depth of the output layer + depth of the output layer. So for the second layer of our ConvNet, we have 5 x 5 x 32 x 64 + 64 = 51,264 parameters. "
      ]
    },
    {
      "cell_type": "code",
      "metadata": {
        "id": "C_Hjp8QrXG1Z",
        "colab_type": "code",
        "colab": {}
      },
      "source": [
        "W_conv2 = weight_variable([5, 5, 32, 64])\n",
        "b_conv2 = bias_variable([64])\n",
        "\n",
        "h_conv2 = tf.nn.relu(conv2d(h_pool1, W_conv2) + b_conv2)\n",
        "h_pool2 = max_pool_2x2(h_conv2)"
      ],
      "execution_count": 0,
      "outputs": []
    },
    {
      "cell_type": "markdown",
      "metadata": {
        "id": "hxZiLpnvXG1b",
        "colab_type": "text"
      },
      "source": [
        "After the pooling stage of our second convolutional layer, we have 64 7x7 \"feature\" images. In one penultimate fully connected hidden layer, we are going to map these feature imges to a 1024 dimensional feature space. Note we need to flatten these feature images to do this."
      ]
    },
    {
      "cell_type": "code",
      "metadata": {
        "id": "nvcEgLXcXG1e",
        "colab_type": "code",
        "colab": {}
      },
      "source": [
        "W_fc1 = weight_variable([7 * 7 * 64, 1024])\n",
        "b_fc1 = bias_variable([1024])\n",
        "\n",
        "h_pool2_flat = tf.reshape(h_pool2, [-1, 7*7*64])\n",
        "h_fc1 = tf.nn.relu(tf.matmul(h_pool2_flat, W_fc1) + b_fc1)"
      ],
      "execution_count": 0,
      "outputs": []
    },
    {
      "cell_type": "markdown",
      "metadata": {
        "id": "X70JVZW2XG1g",
        "colab_type": "text"
      },
      "source": [
        "Dropout is added here, although it is not really needed for such small network."
      ]
    },
    {
      "cell_type": "code",
      "metadata": {
        "id": "vMZUW7U8XG1h",
        "colab_type": "code",
        "colab": {}
      },
      "source": [
        "keep_prob = tf.placeholder(tf.float32)\n",
        "h_fc1_drop = tf.nn.dropout(h_fc1, keep_prob)"
      ],
      "execution_count": 0,
      "outputs": []
    },
    {
      "cell_type": "markdown",
      "metadata": {
        "id": "Kfp6SMSHXG1l",
        "colab_type": "text"
      },
      "source": [
        "We have a final linear output layer mapping features to scores topped off with a softmax cross entropy loss function, as explained earlier."
      ]
    },
    {
      "cell_type": "code",
      "metadata": {
        "id": "8OihaWsdXG1m",
        "colab_type": "code",
        "colab": {}
      },
      "source": [
        "W_fc2 = weight_variable([1024, 10])\n",
        "b_fc2 = bias_variable([10])\n",
        "\n",
        "y_conv = tf.matmul(h_fc1_drop, W_fc2) + b_fc2"
      ],
      "execution_count": 0,
      "outputs": []
    },
    {
      "cell_type": "code",
      "metadata": {
        "id": "rNBvmlJDXG1r",
        "colab_type": "code",
        "colab": {}
      },
      "source": [
        "cross_entropy = tf.reduce_mean(\n",
        "    tf.nn.softmax_cross_entropy_with_logits(labels=y_, logits=y_conv))"
      ],
      "execution_count": 0,
      "outputs": []
    },
    {
      "cell_type": "markdown",
      "metadata": {
        "id": "XJUNYz09XG1t",
        "colab_type": "text"
      },
      "source": [
        "For training we choose an Adam learning rate and update rule. We then run this for 20,000 iterations and evaluate our accuracy after training."
      ]
    },
    {
      "cell_type": "code",
      "metadata": {
        "id": "EJD0MZV6XG1v",
        "colab_type": "code",
        "colab": {},
        "outputId": "b7061acf-a61b-47c1-e927-fda5292c3c55"
      },
      "source": [
        "train_step = tf.train.AdamOptimizer(1e-4).minimize(cross_entropy)\n",
        "correct_prediction = tf.equal(tf.argmax(y_conv,1), tf.argmax(y_,1))\n",
        "accuracy = tf.reduce_mean(tf.cast(correct_prediction, tf.float32))\n",
        "sess.run(tf.global_variables_initializer())\n",
        "for i in range(20000):\n",
        "  batch = mnist.train.next_batch(50)\n",
        "  if i%1000 == 0:\n",
        "    train_accuracy = accuracy.eval(feed_dict={\n",
        "        x:batch[0], y_: batch[1], keep_prob: 1.0})\n",
        "    print(\"step %d, training accuracy %g\"%(i, train_accuracy))\n",
        "  train_step.run(feed_dict={x: batch[0], y_: batch[1], keep_prob: 0.5})\n",
        "\n",
        "print(\"test accuracy %g\"%accuracy.eval(feed_dict={\n",
        "    x: mnist.test.images, y_: mnist.test.labels, keep_prob: 1.0}))"
      ],
      "execution_count": 0,
      "outputs": [
        {
          "output_type": "stream",
          "text": [
            "step 0, training accuracy 0.16\n",
            "step 1000, training accuracy 0.94\n",
            "step 2000, training accuracy 1\n",
            "step 3000, training accuracy 0.98\n",
            "step 4000, training accuracy 1\n",
            "step 5000, training accuracy 0.96\n",
            "step 6000, training accuracy 0.98\n",
            "step 7000, training accuracy 1\n",
            "step 8000, training accuracy 1\n",
            "step 9000, training accuracy 0.98\n",
            "step 10000, training accuracy 1\n",
            "step 11000, training accuracy 1\n",
            "step 12000, training accuracy 1\n",
            "step 13000, training accuracy 1\n",
            "step 14000, training accuracy 1\n",
            "step 15000, training accuracy 1\n",
            "step 16000, training accuracy 1\n",
            "step 17000, training accuracy 1\n",
            "step 18000, training accuracy 1\n",
            "step 19000, training accuracy 1\n",
            "test accuracy 0.9925\n"
          ],
          "name": "stdout"
        }
      ]
    },
    {
      "cell_type": "markdown",
      "metadata": {
        "id": "S24_lY_9XG1z",
        "colab_type": "text"
      },
      "source": [
        "We add an output to compuational graph that computes the label probabilities."
      ]
    },
    {
      "cell_type": "code",
      "metadata": {
        "id": "Ifzb7uKKXG1z",
        "colab_type": "code",
        "colab": {}
      },
      "source": [
        "y_probs = tf.nn.softmax(logits=y_conv, name=None)"
      ],
      "execution_count": 0,
      "outputs": []
    },
    {
      "cell_type": "code",
      "metadata": {
        "id": "j1-bPx3HXG12",
        "colab_type": "code",
        "colab": {},
        "outputId": "cde47a4b-22d3-4a7c-d9e6-e9399ac8f14e"
      },
      "source": [
        "print(\"test accuracy %g\"%accuracy.eval(feed_dict={\n",
        "    x: mnist.test.images, y_: mnist.test.labels, keep_prob: 1.0}))"
      ],
      "execution_count": 0,
      "outputs": [
        {
          "output_type": "stream",
          "text": [
            "test accuracy 0.9925\n"
          ],
          "name": "stdout"
        }
      ]
    },
    {
      "cell_type": "markdown",
      "metadata": {
        "id": "uBu3mcUgXG16",
        "colab_type": "text"
      },
      "source": [
        "Next we step through some test examples and see how well the network is doing."
      ]
    },
    {
      "cell_type": "code",
      "metadata": {
        "id": "kNi-w-dfXG17",
        "colab_type": "code",
        "colab": {},
        "outputId": "9322d686-9353-41cf-caef-41272a3b8693"
      },
      "source": [
        "for i in range(5):\n",
        "    batch = mnist.test.next_batch(1)\n",
        "    image = np.asarray(batch[0]).reshape((28, 28))\n",
        "    label = batch[1]\n",
        "    \n",
        "    plt.imshow(image)\n",
        "    plt.axis(\"off\")\n",
        "    plt.show()\n",
        "    print \"Label = \", label\n",
        "    print \"Class probabilities = \", y_probs.eval(feed_dict={\n",
        "        x: batch[0], y_: batch[1], keep_prob: 1.0})"
      ],
      "execution_count": 0,
      "outputs": [
        {
          "output_type": "display_data",
          "data": {
            "image/png": "[encoded data removed]",
            "text/plain": [
              "<matplotlib.figure.Figure at 0x11d599f10>"
            ]
          },
          "metadata": {
            "tags": []
          }
        },
        {
          "output_type": "stream",
          "text": [
            "Label =  [[ 0.  0.  0.  0.  0.  0.  0.  0.  0.  1.]]\n",
            "Class probabilities =  [[  5.28820287e-14   1.61565119e-12   1.47112888e-12   1.99402633e-10\n",
            "    8.20477112e-07   1.07506337e-09   4.57562201e-15   8.61227306e-07\n",
            "    3.80472631e-09   9.99998331e-01]]\n"
          ],
          "name": "stdout"
        },
        {
          "output_type": "display_data",
          "data": {
            "image/png": "[encoded data removed]",
            "text/plain": [
              "<matplotlib.figure.Figure at 0x11ec3dcd0>"
            ]
          },
          "metadata": {
            "tags": []
          }
        },
        {
          "output_type": "stream",
          "text": [
            "Label =  [[ 1.  0.  0.  0.  0.  0.  0.  0.  0.  0.]]\n",
            "Class probabilities =  [[  1.00000000e+00   3.50560683e-12   1.00434594e-09   1.73949210e-14\n",
            "    8.60713218e-16   3.75027960e-12   9.13440157e-11   2.25712261e-11\n",
            "    1.23941948e-12   4.15561162e-11]]\n"
          ],
          "name": "stdout"
        },
        {
          "output_type": "display_data",
          "data": {
            "image/png": "[encoded data removed]",
            "text/plain": [
              "<matplotlib.figure.Figure at 0x1274c8090>"
            ]
          },
          "metadata": {
            "tags": []
          }
        },
        {
          "output_type": "stream",
          "text": [
            "Label =  [[ 0.  0.  0.  0.  0.  0.  1.  0.  0.  0.]]\n",
            "Class probabilities =  [[  1.41643053e-09   7.71405238e-14   1.62943230e-15   5.57100261e-15\n",
            "    2.53674198e-13   1.26207560e-11   1.00000000e+00   4.33625261e-15\n",
            "    3.95802037e-11   7.02078399e-16]]\n"
          ],
          "name": "stdout"
        },
        {
          "output_type": "display_data",
          "data": {
            "image/png": "[encoded data removed]",
            "text/plain": [
              "<matplotlib.figure.Figure at 0x1277466d0>"
            ]
          },
          "metadata": {
            "tags": []
          }
        },
        {
          "output_type": "stream",
          "text": [
            "Label =  [[ 0.  0.  0.  0.  0.  0.  0.  0.  0.  1.]]\n",
            "Class probabilities =  [[  3.76756785e-12   1.12312442e-11   3.20851019e-11   2.01345451e-09\n",
            "    2.59802891e-05   6.02736749e-09   2.61297559e-12   4.99466495e-08\n",
            "    6.30753760e-09   9.99974012e-01]]\n"
          ],
          "name": "stdout"
        },
        {
          "output_type": "display_data",
          "data": {
            "image/png": "[encoded data removed]",
            "text/plain": [
              "<matplotlib.figure.Figure at 0x12778c250>"
            ]
          },
          "metadata": {
            "tags": []
          }
        },
        {
          "output_type": "stream",
          "text": [
            "Label =  [[ 1.  0.  0.  0.  0.  0.  0.  0.  0.  0.]]\n",
            "Class probabilities =  [[  1.00000000e+00   1.98105139e-12   1.07032493e-12   2.90848210e-14\n",
            "    8.34232247e-15   6.83068185e-12   1.36369707e-08   4.16134821e-10\n",
            "    5.86183532e-12   1.50796278e-10]]\n"
          ],
          "name": "stdout"
        }
      ]
    },
    {
      "cell_type": "markdown",
      "metadata": {
        "collapsed": true,
        "id": "Gkxd9ubsXG19",
        "colab_type": "text"
      },
      "source": [
        "### PyTorch Implementation: Softmax Regression Model"
      ]
    },
    {
      "cell_type": "code",
      "metadata": {
        "id": "lWXmGuwOXG1-",
        "colab_type": "code",
        "colab": {}
      },
      "source": [
        "# Import torch and torchvision\n",
        "import torch\n",
        "import torchvision.datasets as datasets\n",
        "import matplotlib.pyplot as plt\n",
        "import numpy as np\n",
        "from torch.autograd import Variable\n",
        "import torchvision.transforms as transforms"
      ],
      "execution_count": 0,
      "outputs": []
    },
    {
      "cell_type": "code",
      "metadata": {
        "id": "TJBCfY02XG2B",
        "colab_type": "code",
        "colab": {}
      },
      "source": [
        "# Download the MNIST data and save it to the data folder. This will be the training data\n",
        "# Each index contains a PILOW image followed by the ground truth classification label\n",
        "# Add data normalization?\n",
        "trainset = datasets.MNIST(root='./data', train=True, download=True, transform=transforms.ToTensor())\n",
        "testset  = datasets.MNIST(root='./data', train=False, download=True, transform=transforms.ToTensor())"
      ],
      "execution_count": 0,
      "outputs": []
    },
    {
      "cell_type": "code",
      "metadata": {
        "id": "qsqwlwepXG2D",
        "colab_type": "code",
        "colab": {}
      },
      "source": [
        "batch_size = 100\n",
        "lr = 0.001\n",
        "input_dim = 784\n",
        "output_dim = 10\n",
        "epochs = 25"
      ],
      "execution_count": 0,
      "outputs": []
    },
    {
      "cell_type": "code",
      "metadata": {
        "id": "ht2ebnMVXG2G",
        "colab_type": "code",
        "colab": {}
      },
      "source": [
        "trainloader = torch.utils.data.DataLoader(trainset, batch_size=batch_size, shuffle=True)\n",
        "testloader = torch.utils.data.DataLoader(testset, batch_size=batch_size, shuffle=False)"
      ],
      "execution_count": 0,
      "outputs": []
    },
    {
      "cell_type": "code",
      "metadata": {
        "id": "CSyuhMhXXG2K",
        "colab_type": "code",
        "colab": {}
      },
      "source": [
        "class MyNN(torch.nn.Module):\n",
        "    def __init__(self, input_dim, output_dim):\n",
        "        # What is this line of code doing?\n",
        "        super(MyNN, self).__init__()\n",
        "        # Apply a linear transformation to the data using weights and bias\n",
        "        # The weights and bias are randomly initialized when the network is initialized\n",
        "        self.linear = torch.nn.Linear(input_dim, output_dim, bias=True)\n",
        "\n",
        "    def forward(self, x):\n",
        "        outputs = self.linear(x)\n",
        "        return outputs\n",
        "\n",
        "# Initialize the neural network; applies a linear transformation on the input and produces an output\n",
        "net = MyNN(input_dim, output_dim)\n",
        "if use_cuda and torch.cuda.is_available():\n",
        "  net.cuda()\n",
        "# Apply cross entropy loss. Includes softmax on the input and then appleis cross entropy loss?\n",
        "losses = torch.nn.CrossEntropyLoss()\n",
        "# Use Stochastic Gradient Descent with a lr (step_size) of 0.5\n",
        "optimizer = torch.optim.SGD(net.parameters(), lr=lr)"
      ],
      "execution_count": 0,
      "outputs": []
    },
    {
      "cell_type": "code",
      "metadata": {
        "id": "Ah1QdOAeXG2M",
        "colab_type": "code",
        "colab": {
          "base_uri": "https://localhost:8080/",
          "height": 434
        },
        "outputId": "982cd02b-ea63-4be1-d188-2c2b14eb249b"
      },
      "source": [
        "# Use dataloader to train model\n",
        "# I dont think I am training this correctly. Have to figure out how trainloader\n",
        "# uses the inputs\n",
        "loss_list = []\n",
        "accuracy_list = []\n",
        "for e in range(epochs):\n",
        "    running_loss = 0\n",
        "    for i, (X, y) in enumerate(trainloader):\n",
        "        # Reshape image to be a vector\n",
        "        input_img = Variable(X.view(-1, input_dim)).cuda()\n",
        "        labels = Variable(y).cuda()\n",
        "        # Make the gradients 0\n",
        "        optimizer.zero_grad()\n",
        "        # Get the output from the linear layer\n",
        "        output = net(input_img)\n",
        "        # Determine softmax and corresponding cross-entropy losses\n",
        "        loss = losses(output, labels)\n",
        "        # Back propogate\n",
        "        loss.backward()\n",
        "        # Update weights\n",
        "        optimizer.step()\n",
        "        running_loss = running_loss + loss.item()\n",
        "    print(f\"Epoch {e} - Training loss: {running_loss/len(trainloader)}\")"
      ],
      "execution_count": 196,
      "outputs": [
        {
          "output_type": "stream",
          "text": [
            "Epoch 0 - Training loss: 0.53060095200936\n",
            "Epoch 1 - Training loss: 0.5243858373661836\n",
            "Epoch 2 - Training loss: 0.5185390629371007\n"
          ],
          "name": "stdout"
        },
        {
          "output_type": "error",
          "ename": "KeyboardInterrupt",
          "evalue": "ignored",
          "traceback": [
            "\u001b[0;31m---------------------------------------------------------------------------\u001b[0m",
            "\u001b[0;31mKeyboardInterrupt\u001b[0m                         Traceback (most recent call last)",
            "\u001b[0;32m<ipython-input-196-cab88716e770>\u001b[0m in \u001b[0;36m<module>\u001b[0;34m()\u001b[0m\n\u001b[1;32m      3\u001b[0m \u001b[0;32mfor\u001b[0m \u001b[0me\u001b[0m \u001b[0;32min\u001b[0m \u001b[0mrange\u001b[0m\u001b[0;34m(\u001b[0m\u001b[0mepochs\u001b[0m\u001b[0;34m)\u001b[0m\u001b[0;34m:\u001b[0m\u001b[0;34m\u001b[0m\u001b[0;34m\u001b[0m\u001b[0m\n\u001b[1;32m      4\u001b[0m     \u001b[0mrunning_loss\u001b[0m \u001b[0;34m=\u001b[0m \u001b[0;36m0\u001b[0m\u001b[0;34m\u001b[0m\u001b[0;34m\u001b[0m\u001b[0m\n\u001b[0;32m----> 5\u001b[0;31m     \u001b[0;32mfor\u001b[0m \u001b[0mi\u001b[0m\u001b[0;34m,\u001b[0m \u001b[0;34m(\u001b[0m\u001b[0mX\u001b[0m\u001b[0;34m,\u001b[0m \u001b[0my\u001b[0m\u001b[0;34m)\u001b[0m \u001b[0;32min\u001b[0m \u001b[0menumerate\u001b[0m\u001b[0;34m(\u001b[0m\u001b[0mtrainloader\u001b[0m\u001b[0;34m)\u001b[0m\u001b[0;34m:\u001b[0m\u001b[0;34m\u001b[0m\u001b[0;34m\u001b[0m\u001b[0m\n\u001b[0m\u001b[1;32m      6\u001b[0m         \u001b[0;31m# Reshape image to be a vector\u001b[0m\u001b[0;34m\u001b[0m\u001b[0;34m\u001b[0m\u001b[0;34m\u001b[0m\u001b[0m\n\u001b[1;32m      7\u001b[0m         \u001b[0minput_img\u001b[0m \u001b[0;34m=\u001b[0m \u001b[0mVariable\u001b[0m\u001b[0;34m(\u001b[0m\u001b[0mX\u001b[0m\u001b[0;34m.\u001b[0m\u001b[0mview\u001b[0m\u001b[0;34m(\u001b[0m\u001b[0;34m-\u001b[0m\u001b[0;36m1\u001b[0m\u001b[0;34m,\u001b[0m \u001b[0minput_dim\u001b[0m\u001b[0;34m)\u001b[0m\u001b[0;34m)\u001b[0m\u001b[0;34m.\u001b[0m\u001b[0mcuda\u001b[0m\u001b[0;34m(\u001b[0m\u001b[0;34m)\u001b[0m\u001b[0;34m\u001b[0m\u001b[0;34m\u001b[0m\u001b[0m\n",
            "\u001b[0;32m/usr/local/lib/python3.6/dist-packages/torch/utils/data/dataloader.py\u001b[0m in \u001b[0;36m__next__\u001b[0;34m(self)\u001b[0m\n\u001b[1;32m    344\u001b[0m     \u001b[0;32mdef\u001b[0m \u001b[0m__next__\u001b[0m\u001b[0;34m(\u001b[0m\u001b[0mself\u001b[0m\u001b[0;34m)\u001b[0m\u001b[0;34m:\u001b[0m\u001b[0;34m\u001b[0m\u001b[0;34m\u001b[0m\u001b[0m\n\u001b[1;32m    345\u001b[0m         \u001b[0mindex\u001b[0m \u001b[0;34m=\u001b[0m \u001b[0mself\u001b[0m\u001b[0;34m.\u001b[0m\u001b[0m_next_index\u001b[0m\u001b[0;34m(\u001b[0m\u001b[0;34m)\u001b[0m  \u001b[0;31m# may raise StopIteration\u001b[0m\u001b[0;34m\u001b[0m\u001b[0;34m\u001b[0m\u001b[0m\n\u001b[0;32m--> 346\u001b[0;31m         \u001b[0mdata\u001b[0m \u001b[0;34m=\u001b[0m \u001b[0mself\u001b[0m\u001b[0;34m.\u001b[0m\u001b[0m_dataset_fetcher\u001b[0m\u001b[0;34m.\u001b[0m\u001b[0mfetch\u001b[0m\u001b[0;34m(\u001b[0m\u001b[0mindex\u001b[0m\u001b[0;34m)\u001b[0m  \u001b[0;31m# may raise StopIteration\u001b[0m\u001b[0;34m\u001b[0m\u001b[0;34m\u001b[0m\u001b[0m\n\u001b[0m\u001b[1;32m    347\u001b[0m         \u001b[0;32mif\u001b[0m \u001b[0mself\u001b[0m\u001b[0;34m.\u001b[0m\u001b[0m_pin_memory\u001b[0m\u001b[0;34m:\u001b[0m\u001b[0;34m\u001b[0m\u001b[0;34m\u001b[0m\u001b[0m\n\u001b[1;32m    348\u001b[0m             \u001b[0mdata\u001b[0m \u001b[0;34m=\u001b[0m \u001b[0m_utils\u001b[0m\u001b[0;34m.\u001b[0m\u001b[0mpin_memory\u001b[0m\u001b[0;34m.\u001b[0m\u001b[0mpin_memory\u001b[0m\u001b[0;34m(\u001b[0m\u001b[0mdata\u001b[0m\u001b[0;34m)\u001b[0m\u001b[0;34m\u001b[0m\u001b[0;34m\u001b[0m\u001b[0m\n",
            "\u001b[0;32m/usr/local/lib/python3.6/dist-packages/torch/utils/data/_utils/fetch.py\u001b[0m in \u001b[0;36mfetch\u001b[0;34m(self, possibly_batched_index)\u001b[0m\n\u001b[1;32m     42\u001b[0m     \u001b[0;32mdef\u001b[0m \u001b[0mfetch\u001b[0m\u001b[0;34m(\u001b[0m\u001b[0mself\u001b[0m\u001b[0;34m,\u001b[0m \u001b[0mpossibly_batched_index\u001b[0m\u001b[0;34m)\u001b[0m\u001b[0;34m:\u001b[0m\u001b[0;34m\u001b[0m\u001b[0;34m\u001b[0m\u001b[0m\n\u001b[1;32m     43\u001b[0m         \u001b[0;32mif\u001b[0m \u001b[0mself\u001b[0m\u001b[0;34m.\u001b[0m\u001b[0mauto_collation\u001b[0m\u001b[0;34m:\u001b[0m\u001b[0;34m\u001b[0m\u001b[0;34m\u001b[0m\u001b[0m\n\u001b[0;32m---> 44\u001b[0;31m             \u001b[0mdata\u001b[0m \u001b[0;34m=\u001b[0m \u001b[0;34m[\u001b[0m\u001b[0mself\u001b[0m\u001b[0;34m.\u001b[0m\u001b[0mdataset\u001b[0m\u001b[0;34m[\u001b[0m\u001b[0midx\u001b[0m\u001b[0;34m]\u001b[0m \u001b[0;32mfor\u001b[0m \u001b[0midx\u001b[0m \u001b[0;32min\u001b[0m \u001b[0mpossibly_batched_index\u001b[0m\u001b[0;34m]\u001b[0m\u001b[0;34m\u001b[0m\u001b[0;34m\u001b[0m\u001b[0m\n\u001b[0m\u001b[1;32m     45\u001b[0m         \u001b[0;32melse\u001b[0m\u001b[0;34m:\u001b[0m\u001b[0;34m\u001b[0m\u001b[0;34m\u001b[0m\u001b[0m\n\u001b[1;32m     46\u001b[0m             \u001b[0mdata\u001b[0m \u001b[0;34m=\u001b[0m \u001b[0mself\u001b[0m\u001b[0;34m.\u001b[0m\u001b[0mdataset\u001b[0m\u001b[0;34m[\u001b[0m\u001b[0mpossibly_batched_index\u001b[0m\u001b[0;34m]\u001b[0m\u001b[0;34m\u001b[0m\u001b[0;34m\u001b[0m\u001b[0m\n",
            "\u001b[0;32m/usr/local/lib/python3.6/dist-packages/torch/utils/data/_utils/fetch.py\u001b[0m in \u001b[0;36m<listcomp>\u001b[0;34m(.0)\u001b[0m\n\u001b[1;32m     42\u001b[0m     \u001b[0;32mdef\u001b[0m \u001b[0mfetch\u001b[0m\u001b[0;34m(\u001b[0m\u001b[0mself\u001b[0m\u001b[0;34m,\u001b[0m \u001b[0mpossibly_batched_index\u001b[0m\u001b[0;34m)\u001b[0m\u001b[0;34m:\u001b[0m\u001b[0;34m\u001b[0m\u001b[0;34m\u001b[0m\u001b[0m\n\u001b[1;32m     43\u001b[0m         \u001b[0;32mif\u001b[0m \u001b[0mself\u001b[0m\u001b[0;34m.\u001b[0m\u001b[0mauto_collation\u001b[0m\u001b[0;34m:\u001b[0m\u001b[0;34m\u001b[0m\u001b[0;34m\u001b[0m\u001b[0m\n\u001b[0;32m---> 44\u001b[0;31m             \u001b[0mdata\u001b[0m \u001b[0;34m=\u001b[0m \u001b[0;34m[\u001b[0m\u001b[0mself\u001b[0m\u001b[0;34m.\u001b[0m\u001b[0mdataset\u001b[0m\u001b[0;34m[\u001b[0m\u001b[0midx\u001b[0m\u001b[0;34m]\u001b[0m \u001b[0;32mfor\u001b[0m \u001b[0midx\u001b[0m \u001b[0;32min\u001b[0m \u001b[0mpossibly_batched_index\u001b[0m\u001b[0;34m]\u001b[0m\u001b[0;34m\u001b[0m\u001b[0;34m\u001b[0m\u001b[0m\n\u001b[0m\u001b[1;32m     45\u001b[0m         \u001b[0;32melse\u001b[0m\u001b[0;34m:\u001b[0m\u001b[0;34m\u001b[0m\u001b[0;34m\u001b[0m\u001b[0m\n\u001b[1;32m     46\u001b[0m             \u001b[0mdata\u001b[0m \u001b[0;34m=\u001b[0m \u001b[0mself\u001b[0m\u001b[0;34m.\u001b[0m\u001b[0mdataset\u001b[0m\u001b[0;34m[\u001b[0m\u001b[0mpossibly_batched_index\u001b[0m\u001b[0;34m]\u001b[0m\u001b[0;34m\u001b[0m\u001b[0;34m\u001b[0m\u001b[0m\n",
            "\u001b[0;32m/usr/local/lib/python3.6/dist-packages/torchvision/datasets/mnist.py\u001b[0m in \u001b[0;36m__getitem__\u001b[0;34m(self, index)\u001b[0m\n\u001b[1;32m     93\u001b[0m \u001b[0;34m\u001b[0m\u001b[0m\n\u001b[1;32m     94\u001b[0m         \u001b[0;32mif\u001b[0m \u001b[0mself\u001b[0m\u001b[0;34m.\u001b[0m\u001b[0mtransform\u001b[0m \u001b[0;32mis\u001b[0m \u001b[0;32mnot\u001b[0m \u001b[0;32mNone\u001b[0m\u001b[0;34m:\u001b[0m\u001b[0;34m\u001b[0m\u001b[0;34m\u001b[0m\u001b[0m\n\u001b[0;32m---> 95\u001b[0;31m             \u001b[0mimg\u001b[0m \u001b[0;34m=\u001b[0m \u001b[0mself\u001b[0m\u001b[0;34m.\u001b[0m\u001b[0mtransform\u001b[0m\u001b[0;34m(\u001b[0m\u001b[0mimg\u001b[0m\u001b[0;34m)\u001b[0m\u001b[0;34m\u001b[0m\u001b[0;34m\u001b[0m\u001b[0m\n\u001b[0m\u001b[1;32m     96\u001b[0m \u001b[0;34m\u001b[0m\u001b[0m\n\u001b[1;32m     97\u001b[0m         \u001b[0;32mif\u001b[0m \u001b[0mself\u001b[0m\u001b[0;34m.\u001b[0m\u001b[0mtarget_transform\u001b[0m \u001b[0;32mis\u001b[0m \u001b[0;32mnot\u001b[0m \u001b[0;32mNone\u001b[0m\u001b[0;34m:\u001b[0m\u001b[0;34m\u001b[0m\u001b[0;34m\u001b[0m\u001b[0m\n",
            "\u001b[0;32m/usr/local/lib/python3.6/dist-packages/torchvision/transforms/transforms.py\u001b[0m in \u001b[0;36m__call__\u001b[0;34m(self, pic)\u001b[0m\n\u001b[1;32m     90\u001b[0m             \u001b[0mTensor\u001b[0m\u001b[0;34m:\u001b[0m \u001b[0mConverted\u001b[0m \u001b[0mimage\u001b[0m\u001b[0;34m.\u001b[0m\u001b[0;34m\u001b[0m\u001b[0;34m\u001b[0m\u001b[0m\n\u001b[1;32m     91\u001b[0m         \"\"\"\n\u001b[0;32m---> 92\u001b[0;31m         \u001b[0;32mreturn\u001b[0m \u001b[0mF\u001b[0m\u001b[0;34m.\u001b[0m\u001b[0mto_tensor\u001b[0m\u001b[0;34m(\u001b[0m\u001b[0mpic\u001b[0m\u001b[0;34m)\u001b[0m\u001b[0;34m\u001b[0m\u001b[0;34m\u001b[0m\u001b[0m\n\u001b[0m\u001b[1;32m     93\u001b[0m \u001b[0;34m\u001b[0m\u001b[0m\n\u001b[1;32m     94\u001b[0m     \u001b[0;32mdef\u001b[0m \u001b[0m__repr__\u001b[0m\u001b[0;34m(\u001b[0m\u001b[0mself\u001b[0m\u001b[0;34m)\u001b[0m\u001b[0;34m:\u001b[0m\u001b[0;34m\u001b[0m\u001b[0;34m\u001b[0m\u001b[0m\n",
            "\u001b[0;32m/usr/local/lib/python3.6/dist-packages/torchvision/transforms/functional.py\u001b[0m in \u001b[0;36mto_tensor\u001b[0;34m(pic)\u001b[0m\n\u001b[1;32m     97\u001b[0m     \u001b[0mimg\u001b[0m \u001b[0;34m=\u001b[0m \u001b[0mimg\u001b[0m\u001b[0;34m.\u001b[0m\u001b[0mtranspose\u001b[0m\u001b[0;34m(\u001b[0m\u001b[0;36m0\u001b[0m\u001b[0;34m,\u001b[0m \u001b[0;36m1\u001b[0m\u001b[0;34m)\u001b[0m\u001b[0;34m.\u001b[0m\u001b[0mtranspose\u001b[0m\u001b[0;34m(\u001b[0m\u001b[0;36m0\u001b[0m\u001b[0;34m,\u001b[0m \u001b[0;36m2\u001b[0m\u001b[0;34m)\u001b[0m\u001b[0;34m.\u001b[0m\u001b[0mcontiguous\u001b[0m\u001b[0;34m(\u001b[0m\u001b[0;34m)\u001b[0m\u001b[0;34m\u001b[0m\u001b[0;34m\u001b[0m\u001b[0m\n\u001b[1;32m     98\u001b[0m     \u001b[0;32mif\u001b[0m \u001b[0misinstance\u001b[0m\u001b[0;34m(\u001b[0m\u001b[0mimg\u001b[0m\u001b[0;34m,\u001b[0m \u001b[0mtorch\u001b[0m\u001b[0;34m.\u001b[0m\u001b[0mByteTensor\u001b[0m\u001b[0;34m)\u001b[0m\u001b[0;34m:\u001b[0m\u001b[0;34m\u001b[0m\u001b[0;34m\u001b[0m\u001b[0m\n\u001b[0;32m---> 99\u001b[0;31m         \u001b[0;32mreturn\u001b[0m \u001b[0mimg\u001b[0m\u001b[0;34m.\u001b[0m\u001b[0mfloat\u001b[0m\u001b[0;34m(\u001b[0m\u001b[0;34m)\u001b[0m\u001b[0;34m.\u001b[0m\u001b[0mdiv\u001b[0m\u001b[0;34m(\u001b[0m\u001b[0;36m255\u001b[0m\u001b[0;34m)\u001b[0m\u001b[0;34m\u001b[0m\u001b[0;34m\u001b[0m\u001b[0m\n\u001b[0m\u001b[1;32m    100\u001b[0m     \u001b[0;32melse\u001b[0m\u001b[0;34m:\u001b[0m\u001b[0;34m\u001b[0m\u001b[0;34m\u001b[0m\u001b[0m\n\u001b[1;32m    101\u001b[0m         \u001b[0;32mreturn\u001b[0m \u001b[0mimg\u001b[0m\u001b[0;34m\u001b[0m\u001b[0;34m\u001b[0m\u001b[0m\n",
            "\u001b[0;31mKeyboardInterrupt\u001b[0m: "
          ]
        }
      ]
    },
    {
      "cell_type": "code",
      "metadata": {
        "id": "Ll286pFQXG2W",
        "colab_type": "code",
        "colab": {
          "base_uri": "https://localhost:8080/",
          "height": 34
        },
        "outputId": "18e3b9d3-ade8-4078-fc48-dc78ed7a8b2c"
      },
      "source": [
        "# Determine accuracy on testing data\n",
        "correct = 0\n",
        "incorrect = 0\n",
        "\n",
        "## WITH TORCH.GRAD = 0?\n",
        "for images, labels in testloader:\n",
        "    images = Variable(images.view(-1, input_dim)).cuda()\n",
        "    y = Variable(labels)\n",
        "    outputs = net(images)\n",
        "    # Get the max along the probabilities\n",
        "    # Using softmax; highest output will be have highest softmax output\n",
        "    _, predicted = torch.max(outputs, 1)\n",
        "    incorrect += (predicted.cpu() != y).sum()\n",
        "    correct+= (predicted.cpu() == y).sum()\n",
        "total = correct + incorrect\n",
        "print(correct.item()/total.item())"
      ],
      "execution_count": 172,
      "outputs": [
        {
          "output_type": "stream",
          "text": [
            "0.8801\n"
          ],
          "name": "stdout"
        }
      ]
    },
    {
      "cell_type": "code",
      "metadata": {
        "id": "adoaHoyc34zI",
        "colab_type": "code",
        "colab": {
          "base_uri": "https://localhost:8080/",
          "height": 1000
        },
        "outputId": "99419706-75e1-4b5f-c1fe-81647744862a"
      },
      "source": [
        "# Plots of 10 random test data and their corresponding results\n",
        "it = iter(testloader)\n",
        "for i in range(10):\n",
        "  idx = np.random.randint(0, 99, 1)[0]\n",
        "  image, label = [x[idx] for x in next(it)]\n",
        "  img = Variable(image.view(-1, input_dim)).cuda()\n",
        "  out= net(img)\n",
        "  _, predicted = torch.max(out, 1)\n",
        "  \n",
        "  plt.imshow(image.numpy().reshape(28, 28));\n",
        "  plt.show()\n",
        "  print(f'Predicted: {predicted.item()}')\n",
        "  print(f'Correct Label: {label.item()}')\n",
        "  print('\\n')"
      ],
      "execution_count": 195,
      "outputs": [
        {
          "output_type": "display_data",
          "data": {
            "image/png": "[encoded data removed]",
            "text/plain": [
              "<Figure size 432x288 with 1 Axes>"
            ]
          },
          "metadata": {
            "tags": []
          }
        },
        {
          "output_type": "stream",
          "text": [
            "Predicted: 9\n",
            "Correct Label: 7\n",
            "\n",
            "\n"
          ],
          "name": "stdout"
        },
        {
          "output_type": "display_data",
          "data": {
            "image/png": "[encoded data removed]",
            "text/plain": [
              "<Figure size 432x288 with 1 Axes>"
            ]
          },
          "metadata": {
            "tags": []
          }
        },
        {
          "output_type": "stream",
          "text": [
            "Predicted: 1\n",
            "Correct Label: 1\n",
            "\n",
            "\n"
          ],
          "name": "stdout"
        },
        {
          "output_type": "display_data",
          "data": {
            "image/png": "[encoded data removed]",
            "text/plain": [
              "<Figure size 432x288 with 1 Axes>"
            ]
          },
          "metadata": {
            "tags": []
          }
        },
        {
          "output_type": "stream",
          "text": [
            "Predicted: 5\n",
            "Correct Label: 5\n",
            "\n",
            "\n"
          ],
          "name": "stdout"
        },
        {
          "output_type": "display_data",
          "data": {
            "image/png": "[encoded data removed]",
            "text/plain": [
              "<Figure size 432x288 with 1 Axes>"
            ]
          },
          "metadata": {
            "tags": []
          }
        },
        {
          "output_type": "stream",
          "text": [
            "Predicted: 0\n",
            "Correct Label: 5\n",
            "\n",
            "\n"
          ],
          "name": "stdout"
        },
        {
          "output_type": "display_data",
          "data": {
            "image/png": "[encoded data removed]",
            "text/plain": [
              "<Figure size 432x288 with 1 Axes>"
            ]
          },
          "metadata": {
            "tags": []
          }
        },
        {
          "output_type": "stream",
          "text": [
            "Predicted: 0\n",
            "Correct Label: 0\n",
            "\n",
            "\n"
          ],
          "name": "stdout"
        },
        {
          "output_type": "display_data",
          "data": {
            "image/png": "[encoded data removed]",
            "text/plain": [
              "<Figure size 432x288 with 1 Axes>"
            ]
          },
          "metadata": {
            "tags": []
          }
        },
        {
          "output_type": "stream",
          "text": [
            "Predicted: 0\n",
            "Correct Label: 0\n",
            "\n",
            "\n"
          ],
          "name": "stdout"
        },
        {
          "output_type": "display_data",
          "data": {
            "image/png": "[encoded data removed]",
            "text/plain": [
              "<Figure size 432x288 with 1 Axes>"
            ]
          },
          "metadata": {
            "tags": []
          }
        },
        {
          "output_type": "stream",
          "text": [
            "Predicted: 2\n",
            "Correct Label: 7\n",
            "\n",
            "\n"
          ],
          "name": "stdout"
        },
        {
          "output_type": "display_data",
          "data": {
            "image/png": "[encoded data removed]",
            "text/plain": [
              "<Figure size 432x288 with 1 Axes>"
            ]
          },
          "metadata": {
            "tags": []
          }
        },
        {
          "output_type": "stream",
          "text": [
            "Predicted: 1\n",
            "Correct Label: 1\n",
            "\n",
            "\n"
          ],
          "name": "stdout"
        },
        {
          "output_type": "display_data",
          "data": {
            "image/png": "[encoded data removed]",
            "text/plain": [
              "<Figure size 432x288 with 1 Axes>"
            ]
          },
          "metadata": {
            "tags": []
          }
        },
        {
          "output_type": "stream",
          "text": [
            "Predicted: 0\n",
            "Correct Label: 0\n",
            "\n",
            "\n"
          ],
          "name": "stdout"
        },
        {
          "output_type": "display_data",
          "data": {
            "image/png": "[encoded data removed]",
            "text/plain": [
              "<Figure size 432x288 with 1 Axes>"
            ]
          },
          "metadata": {
            "tags": []
          }
        },
        {
          "output_type": "stream",
          "text": [
            "Predicted: 9\n",
            "Correct Label: 9\n",
            "\n",
            "\n"
          ],
          "name": "stdout"
        }
      ]
    },
    {
      "cell_type": "markdown",
      "metadata": {
        "id": "1zo9CUBhX8Hx",
        "colab_type": "text"
      },
      "source": [
        "PyTorch Implementation: MLP for MNIST Data"
      ]
    }
  ]
}