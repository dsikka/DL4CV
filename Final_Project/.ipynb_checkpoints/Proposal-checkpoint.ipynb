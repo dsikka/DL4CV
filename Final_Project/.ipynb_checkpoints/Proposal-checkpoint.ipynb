{
 "cells": [
  {
   "cell_type": "markdown",
   "metadata": {},
   "source": [
    "As part of my final project, I will be using the NIH Chest X-ray dataset. This dataset consists of over 112000 images for 15 different classes and the data can be found here: https://www.kaggle.com/nih-chest-xrays/data"
   ]
  },
  {
   "cell_type": "markdown",
   "metadata": {},
   "source": [
    "Goal#1: As an initial goal, I would like to apply transfer learning by taking a current model (such as ResNet) and train it using the above data set. This will involve processing the data to be in a useable form, training the model, and applying fine-tuning as necessary. The classification accuracy of the model will then be assessed."
   ]
  },
  {
   "cell_type": "markdown",
   "metadata": {},
   "source": [
    "Goal#2: As a follow-up goal, I would like to train my own classification models using a framework (Pytorch, Tensorflow) and then assess the accuracy of the model on a separate image. I would like to first do this for 5-class classification problem (i.e. only use a subset of the data) and then repeat this process for a 15 class, classification problem. If the second part is sucessfull, I would compare the model trained in Goal#1."
   ]
  },
  {
   "cell_type": "code",
   "execution_count": null,
   "metadata": {},
   "outputs": [],
   "source": []
  }
 ],
 "metadata": {
  "kernelspec": {
   "display_name": "Python 3",
   "language": "python",
   "name": "python3"
  },
  "language_info": {
   "codemirror_mode": {
    "name": "ipython",
    "version": 3
   },
   "file_extension": ".py",
   "mimetype": "text/x-python",
   "name": "python",
   "nbconvert_exporter": "python",
   "pygments_lexer": "ipython3",
   "version": "3.6.8"
  }
 },
 "nbformat": 4,
 "nbformat_minor": 2
}
