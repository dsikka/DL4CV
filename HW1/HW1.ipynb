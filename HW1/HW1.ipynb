{
 "cells": [
  {
   "cell_type": "markdown",
   "metadata": {},
   "source": [
    "# Deep Learning for Computer Vision:  Assignment 1\n"
   ]
  },
  {
   "cell_type": "markdown",
   "metadata": {},
   "source": [
    "## Computer Science: COMS W 4995 007\n"
   ]
  },
  {
   "cell_type": "markdown",
   "metadata": {},
   "source": [
    "### Due: October 1, 2019"
   ]
  },
  {
   "cell_type": "raw",
   "metadata": {},
   "source": []
  },
  {
   "cell_type": "markdown",
   "metadata": {},
   "source": [
    "#### Problem 1"
   ]
  },
  {
   "cell_type": "markdown",
   "metadata": {},
   "source": [
    "You are asked to produce a minumum error rate classifier for a 3-class classification problem. Your feature space is 2-dimensional. Let's say the class conditional density functions (or likelihoods) are known and given by $\\rho({\\bf x}|y_i)$\n",
    "where ${\\bf x}$ is your feature and $y_i$ specifies the class. Let's also assume that the priors $P(y_i)$ are also given. (Both of these are specified below.) Show the decision regions for each of the three classes. Hint: you can show this by densely generating sample points ${\\bf x}_j \\in X$ in the feature space, classifying them, and then plotting and coloring them according to their predicted label."
   ]
  },
  {
   "cell_type": "markdown",
   "metadata": {},
   "source": [
    "Let the ccds and priors be given as:\n",
    "    "
   ]
  },
  {
   "cell_type": "markdown",
   "metadata": {},
   "source": [
    "$$\\rho({\\bf x}|y_1) \\sim N({\\bf \\mu}_1, \\Sigma_1)  \\text{ and } P(y_1) = 0.5\\,\\, \\text{ where } \\,\\, \n",
    "{\\bf \\mu}_1 = \\left[\\begin{array}{c} 1 \\\\ 1  \\end{array} \\right]\n",
    "\\,\\, \\text{ and } \n",
    "\\Sigma_1 = \\left[\\begin{array}{cc} 1 & 0 \\\\ 0 & 0.5  \\end{array} \\right] $$\n"
   ]
  },
  {
   "cell_type": "markdown",
   "metadata": {},
   "source": [
    "#### $$\\rho({\\bf x}|y_2) \\sim N({\\bf \\mu}_2, \\Sigma_2)  \\text{ and } P(y_2) = 0.4\\,\\, \\text{ where } \\,\\, \n",
    "{\\bf \\mu}_2 = \\left[\\begin{array}{c} 1 \\\\ 0  \\end{array} \\right]\n",
    "\\,\\, \\text{ and } \n",
    "\\Sigma_2 = \\left[\\begin{array}{cc} 0.5 & 0 \\\\ 0 & 1  \\end{array} \\right] $$\n"
   ]
  },
  {
   "cell_type": "markdown",
   "metadata": {},
   "source": [
    "$$\\rho({\\bf x}|y_3) \\sim N({\\bf \\mu}_3, \\Sigma_3)  \\text{ and } P(y_3) = 0.1\\,\\, \\text{ where } \\,\\, \n",
    "{\\bf \\mu}_3 = \\left[\\begin{array}{c} 0 \\\\ -1  \\end{array} \\right]\n",
    "\\,\\, \\text{ and } \n",
    "\\Sigma_3 = \\left[\\begin{array}{cc} 2.0 & 0 \\\\ 0 & 0.5  \\end{array} \\right] $$"
   ]
  },
  {
   "cell_type": "markdown",
   "metadata": {},
   "source": [
    "Remember all you need to do is to use Bayes theorem to get the expression for $P(y_i|{\\bf x})$, then for each sample ${\\bf x}_j \\in X$ choose the $i$ with the highest aposteriori probability. Do not use any statisical packages to do this other than numpy."
   ]
  },
  {
   "cell_type": "code",
   "execution_count": 1,
   "metadata": {},
   "outputs": [],
   "source": [
    "import numpy as np\n",
    "import random\n",
    "import matplotlib.pyplot as plt"
   ]
  },
  {
   "cell_type": "code",
   "execution_count": 2,
   "metadata": {},
   "outputs": [],
   "source": [
    "# Give equation for a multivariate Gaussian distribution (reference)?\n",
    "# Write out the equation in clear terms (latex)\n",
    "def get_class_cond_prob(mean, cov, data_point):\n",
    "    det=np.linalg.det(cov)\n",
    "    inv=np.linalg.inv(cov)\n",
    "    diff=data_point-mean\n",
    "    # Need to double check if this is giving the correct value\n",
    "    num = np.dot(np.dot(inv, diff.T), diff)\n",
    "    class_cond = np.exp(-1/2*num)/(2*np.pi*det**(1/2))\n",
    "    return class_cond"
   ]
  },
  {
   "cell_type": "code",
   "execution_count": 4,
   "metadata": {},
   "outputs": [
    {
     "data": {
      "image/png": "[encoded data removed]",
      "text/plain": [
       "<Figure size 432x288 with 1 Axes>"
      ]
     },
     "metadata": {
      "needs_background": "light"
     },
     "output_type": "display_data"
    }
   ],
   "source": [
    "# Given class properties\n",
    "prior_class1 = 0.5\n",
    "prior_class2 = 0.4\n",
    "prior_class3 = 0.2\n",
    "\n",
    "mean_class1 = np.array([1, 1])\n",
    "mean_class2 = np.array([1, 0])\n",
    "mean_class3 = np.array([0, -1])\n",
    "\n",
    "cov_class1 = np.array([[1, 0],[0, 0.5]])\n",
    "cov_class2 = np.array([[0.5, 0],[0 ,1]])\n",
    "cov_class3 = np.array([[2.0, 0],[0, 0.5]])\n",
    "\n",
    "# Define points for feature space\n",
    "# How do we define what the bounds of the feature space are?\n",
    "x1, y1 = np.random.multivariate_normal(mean_class1, cov_class1, 10000).T\n",
    "x2, y2 = np.random.multivariate_normal(mean_class2, cov_class2, 10000).T\n",
    "x3, y3 = np.random.multivariate_normal(mean_class3, cov_class3, 10000).T\n",
    "\n",
    "x_min = np.min([np.min(x1), np.min(x2), np.min(x3)]) - 100\n",
    "x_max = np.max([np.max(x1), np.max(x2), np.max(x3)]) + 100\n",
    "y_min = np.min([np.min(y1), np.min(y2), np.min(y3)]) - 100\n",
    "y_max = np.max([np.max(y1), np.max(y2), np.max(y3)]) + 100\n",
    "\n",
    "# Sample the feature space\n",
    "# Can the bounds be arbritrary that I choose or not for what part of the feature space is sampled?\n",
    "x_vals = np.linspace(x_min, x_max, 10000)\n",
    "y_vals = np.linspace(y_min, y_max, 10000)\n",
    "\n",
    "np.random.shuffle(x_vals)\n",
    "np.random.shuffle(y_vals)\n",
    "\n",
    "# Determine class labeled for the sampled data\n",
    "class_1 = []\n",
    "class_2 = []\n",
    "class_3 = []\n",
    "\n",
    "for i in range(len(x_vals)):\n",
    "    data_point=np.array([x_vals[i], y_vals[i]])\n",
    "    class_1_apos_prob = get_class_cond_prob(mean_class1, cov_class1, data_point)*prior_class1\n",
    "    class_2_apos_prob = get_class_cond_prob(mean_class2, cov_class2, data_point)*prior_class2\n",
    "    class_3_apos_prob = get_class_cond_prob(mean_class3, cov_class3, data_point)*prior_class3\n",
    "    class_label = np.argmax([class_1_apos_prob, class_2_apos_prob, class_3_apos_prob])\n",
    "    if class_label == 0:\n",
    "        class_1.append(data_point)\n",
    "    elif class_label == 1:\n",
    "        class_2.append(data_point)\n",
    "    else:\n",
    "        class_3.append(data_point)\n",
    "\n",
    "x_1, y_1 = np.array(class_1).T\n",
    "x_2, y_2 = np.array(class_2).T\n",
    "x_3, y_3 = np.array(class_3).T\n",
    "\n",
    "plt.scatter(x_1, y_1, c='b')\n",
    "plt.scatter(x_2, y_2, c='r')\n",
    "plt.scatter(x_3, y_3, c='g')\n",
    "plt.show()"
   ]
  },
  {
   "cell_type": "markdown",
   "metadata": {},
   "source": [
    "#### Problem 2"
   ]
  },
  {
   "cell_type": "markdown",
   "metadata": {},
   "source": [
    "Implement the Pegasos algorithm for finding a linear SVM classifier which separates the training data generated below. Experiment with three different choices for the regularization parameter and plot the resulting separating plane. Explain how the choice of C effects the resulting solution. Hint: the algorithm might show better convergence if you use the projection normalization step. Also, you can consult with any literature beyond the course notes, but you must write your own code."
   ]
  },
  {
   "cell_type": "code",
   "execution_count": 178,
   "metadata": {},
   "outputs": [],
   "source": [
    "import numpy as np\n",
    "import random\n",
    "import pandas as pd\n",
    "import matplotlib.pyplot as plt"
   ]
  },
  {
   "cell_type": "code",
   "execution_count": 179,
   "metadata": {},
   "outputs": [
    {
     "data": {
      "text/html": [
       "<div>\n",
       "<style scoped>\n",
       "    .dataframe tbody tr th:only-of-type {\n",
       "        vertical-align: middle;\n",
       "    }\n",
       "\n",
       "    .dataframe tbody tr th {\n",
       "        vertical-align: top;\n",
       "    }\n",
       "\n",
       "    .dataframe thead th {\n",
       "        text-align: right;\n",
       "    }\n",
       "</style>\n",
       "<table border=\"1\" class=\"dataframe\">\n",
       "  <thead>\n",
       "    <tr style=\"text-align: right;\">\n",
       "      <th></th>\n",
       "      <th>x1</th>\n",
       "      <th>x2</th>\n",
       "      <th>y</th>\n",
       "    </tr>\n",
       "  </thead>\n",
       "  <tbody>\n",
       "    <tr>\n",
       "      <td>count</td>\n",
       "      <td>5.000000e+02</td>\n",
       "      <td>5.000000e+02</td>\n",
       "      <td>500.000000</td>\n",
       "    </tr>\n",
       "    <tr>\n",
       "      <td>mean</td>\n",
       "      <td>8.260059e-17</td>\n",
       "      <td>1.421085e-17</td>\n",
       "      <td>0.044000</td>\n",
       "    </tr>\n",
       "    <tr>\n",
       "      <td>std</td>\n",
       "      <td>1.000000e+00</td>\n",
       "      <td>1.000000e+00</td>\n",
       "      <td>1.000032</td>\n",
       "    </tr>\n",
       "    <tr>\n",
       "      <td>min</td>\n",
       "      <td>-1.795915e+00</td>\n",
       "      <td>-1.658863e+00</td>\n",
       "      <td>-1.000000</td>\n",
       "    </tr>\n",
       "    <tr>\n",
       "      <td>25%</td>\n",
       "      <td>-8.126720e-01</td>\n",
       "      <td>-9.069381e-01</td>\n",
       "      <td>-1.000000</td>\n",
       "    </tr>\n",
       "    <tr>\n",
       "      <td>50%</td>\n",
       "      <td>8.507193e-02</td>\n",
       "      <td>1.344090e-02</td>\n",
       "      <td>1.000000</td>\n",
       "    </tr>\n",
       "    <tr>\n",
       "      <td>75%</td>\n",
       "      <td>8.973165e-01</td>\n",
       "      <td>9.009806e-01</td>\n",
       "      <td>1.000000</td>\n",
       "    </tr>\n",
       "    <tr>\n",
       "      <td>max</td>\n",
       "      <td>1.624062e+00</td>\n",
       "      <td>1.902055e+00</td>\n",
       "      <td>1.000000</td>\n",
       "    </tr>\n",
       "  </tbody>\n",
       "</table>\n",
       "</div>"
      ],
      "text/plain": [
       "                 x1            x2           y\n",
       "count  5.000000e+02  5.000000e+02  500.000000\n",
       "mean   8.260059e-17  1.421085e-17    0.044000\n",
       "std    1.000000e+00  1.000000e+00    1.000032\n",
       "min   -1.795915e+00 -1.658863e+00   -1.000000\n",
       "25%   -8.126720e-01 -9.069381e-01   -1.000000\n",
       "50%    8.507193e-02  1.344090e-02    1.000000\n",
       "75%    8.973165e-01  9.009806e-01    1.000000\n",
       "max    1.624062e+00  1.902055e+00    1.000000"
      ]
     },
     "execution_count": 179,
     "metadata": {},
     "output_type": "execute_result"
    }
   ],
   "source": [
    "# Let's make up some random data to use to build our SVM classifier\n",
    "data = pd.DataFrame(np.zeros((500, 3)), columns=['x1', 'x2', 'y'])\n",
    "\n",
    "for i in range(len(data.index)):\n",
    "    x1 = random.randint(20,100)\n",
    "    if np.random.random() > 0.5:\n",
    "        data.iloc[i,0] = 1.0 * x1 \n",
    "        data.iloc[i,1] = 0.25 * x1 + 60.0 * (random.random() - 0.5) + 65.0\n",
    "        data.iloc[i,2] = 1.0\n",
    "    else:\n",
    "        data.iloc[i,0] = 1.0 * x1\n",
    "        data.iloc[i,1] = 0.24 * x1 + 40.0 * (random.random() - 0.5) + 0.0 \n",
    "        data.iloc[i,2] = -1.0\n",
    "    \n",
    "# Add in a stray point\n",
    "data.iloc[0,0] = 50.0\n",
    "data.iloc[0,1] = 0.25 * x1 + 25.0\n",
    "data.iloc[0,2] = 1.0\n",
    "\n",
    "# Now let's normalize this data.\n",
    "\n",
    "data.iloc[:,0] = (data.iloc[:,0] - data['x1'].mean()) / data['x1'].std()\n",
    "data.iloc[:,1] = (data.iloc[:,1] - data['x2'].mean()) / data['x2'].std()\n",
    "\n",
    "data.head()\n",
    "data.describe()"
   ]
  },
  {
   "cell_type": "code",
   "execution_count": 180,
   "metadata": {},
   "outputs": [],
   "source": [
    "# set X (training data) and y (target variable)\n",
    "cols = data.shape[1]\n",
    "X = data.iloc[:,0:cols-1]\n",
    "y = data.iloc[:,cols-1:cols]\n",
    "\n",
    "X = np.matrix(X.values)\n",
    "y = np.matrix(y.values)"
   ]
  },
  {
   "cell_type": "code",
   "execution_count": 181,
   "metadata": {},
   "outputs": [],
   "source": [
    "# Sloppy function for plotting our data\n",
    "def plot_data(X, y):\n",
    "    \n",
    "    fig, ax = plt.subplots(figsize=(12,8))\n",
    "    ax.margins(0.05) # Optional, just adds 5% padding to the autoscaling\n",
    "\n",
    "    y_predict = y > 0\n",
    "    indices_0 = [k for k in range(0, X.shape[0]) if not y_predict[k]]\n",
    "    indices_1 = [k for k in range(0, X.shape[0]) if y_predict[k]]\n",
    "\n",
    "    ax.plot(X[indices_0, 0], X[indices_0,1], marker='o', linestyle='', ms=5, label='-1')\n",
    "    ax.plot(X[indices_1, 0], X[indices_1,1], marker='o', linestyle='', ms=5, label='1')\n",
    "\n",
    "    ax.legend()\n",
    "    ax.legend(loc=2)\n",
    "    ax.set_xlabel('x1')\n",
    "    ax.set_ylabel('x2')\n",
    "    ax.set_title('Training Data')\n",
    "    plt.show()"
   ]
  },
  {
   "cell_type": "code",
   "execution_count": 182,
   "metadata": {},
   "outputs": [
    {
     "data": {
      "image/png": "[encoded data removed]",
      "text/plain": [
       "<Figure size 864x576 with 1 Axes>"
      ]
     },
     "metadata": {
      "needs_background": "light"
     },
     "output_type": "display_data"
    }
   ],
   "source": [
    "plot_data(X,y)"
   ]
  },
  {
   "cell_type": "code",
   "execution_count": 229,
   "metadata": {},
   "outputs": [
    {
     "name": "stdout",
     "output_type": "stream",
     "text": [
      "[[-0.00965802  0.17693812]]\n"
     ]
    }
   ],
   "source": [
    "# Original weight vector\n",
    "w = np.array([0, 0])\n",
    "\n",
    "# Regularization parameter?\n",
    "# This term incorporates C?\n",
    "reg_param = 5\n",
    "\n",
    "T = 100\n",
    "for t in range(T):\n",
    "    # Are we allowed to pick the same point again?\n",
    "    # What does uniformly at random mean?\n",
    "    i = random.randrange(len(X))\n",
    "    step=t+1\n",
    "    learning_rate = (1/(step*reg_param))\n",
    "    cur_val = np.dot(w, X[i].T)\n",
    "    fin_val = np.dot(y[i], cur_val)\n",
    "    if fin_val < 1:\n",
    "        w = (1-learning_rate*reg_param)*w + learning_rate*(np.dot(y[i], X[i]))\n",
    "    else:\n",
    "        w = (1-learning_rate*reg_param)*w \n",
    "    norm = np.linalg.norm(w)\n",
    "    w = min(1, (1/np.sqrt(reg_param))/norm)*w\n",
    "print(w)"
   ]
  },
  {
   "cell_type": "code",
   "execution_count": 230,
   "metadata": {
    "scrolled": true
   },
   "outputs": [
    {
     "data": {
      "image/png": "[encoded data removed]",
      "text/plain": [
       "<Figure size 432x288 with 1 Axes>"
      ]
     },
     "metadata": {
      "needs_background": "light"
     },
     "output_type": "display_data"
    }
   ],
   "source": [
    "x_1, y_1 = np.array(X).T\n",
    "w = np.array(w)\n",
    "plt.scatter(x_1, y_1)\n",
    "line = []\n",
    "line.append(-1*w[0][1])\n",
    "line.append(w[0][0])\n",
    "\n",
    "plt.quiver(0, 0, line[0], line[1], scale=1)\n",
    "plt.quiver(0, 0, -1*line[0], -1*line[1], scale=1)\n",
    "plt.show()"
   ]
  },
  {
   "cell_type": "code",
   "execution_count": null,
   "metadata": {},
   "outputs": [],
   "source": []
  },
  {
   "cell_type": "code",
   "execution_count": null,
   "metadata": {},
   "outputs": [],
   "source": []
  }
 ],
 "metadata": {
  "kernelspec": {
   "display_name": "Python 3",
   "language": "python",
   "name": "python3"
  },
  "language_info": {
   "codemirror_mode": {
    "name": "ipython",
    "version": 3
   },
   "file_extension": ".py",
   "mimetype": "text/x-python",
   "name": "python",
   "nbconvert_exporter": "python",
   "pygments_lexer": "ipython3",
   "version": "3.6.8"
  }
 },
 "nbformat": 4,
 "nbformat_minor": 2
}
