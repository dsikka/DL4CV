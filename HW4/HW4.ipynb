{
 "cells": [
  {
   "cell_type": "markdown",
   "metadata": {
    "colab_type": "text",
    "id": "_RCviMrZXGyP"
   },
   "source": [
    "# Deep Learning for Computer Vision:  HW 4"
   ]
  },
  {
   "cell_type": "markdown",
   "metadata": {
    "colab_type": "text",
    "id": "ZbPqDDNJXGyU"
   },
   "source": [
    "## Computer Science: COMS W 4995 007"
   ]
  },
  {
   "cell_type": "markdown",
   "metadata": {
    "colab_type": "text",
    "id": "3wL_vEn5XGyX"
   },
   "source": [
    "### Due: October 31, 2019\n",
    "\n",
    "### Problem"
   ]
  },
  {
   "cell_type": "markdown",
   "metadata": {
    "colab_type": "text",
    "id": "2tTDNGmFXGyZ"
   },
   "source": [
    "In this notebook we provide three networks for classifying handwritten digits from the MNIST dataset. The networks are implemented and tested using the Tensorflow framework. The third and final network is a convolutional neural network (CNN aka ConvNet) which achieves 99.25% accuracy on this dataset. \n",
    "\n",
    "Your task is to re-implement all three networks using Pytorch. You will likely find several Pytorch implementations on the internet. It is ok to study these. However, you must not cut and paste this code into your assignment--you must write this yourself. Furthermore, you need to comment every line of code and succintly explain what it is doing! \n",
    "\n",
    "Here is what is required:\n",
    "\n",
    "a) A FULLY commented re-implementation of the networks below using the Pytorch.\n",
    "\n",
    "b) your network trained on the same MNIST data as used here.\n",
    "\n",
    "c) an evaluation of the accuracy on the MNIST test set.\n",
    "\n",
    "d) plots of 10 randomly selected digits from the test set along with the correct label and the assigned label.\n",
    "\n",
    "e) have your training record a log of the validation loss and validation accuracy. \n",
    "\n",
    "f) have your training continually save the best model so far (as determined by the validation loss).\n",
    "\n",
    "g) after training, load the saved weights using the best model so far. re-run you accuracy evaluation using these saved weights.\n",
    "\n",
    "Below we include the Tensorflow examples shown in class."
   ]
  },
  {
   "cell_type": "markdown",
   "metadata": {
    "colab_type": "text",
    "id": "BYXzgRM2XGyc"
   },
   "source": [
    "### A Simple Convolutional Neural Network in Tensorflow"
   ]
  },
  {
   "cell_type": "markdown",
   "metadata": {
    "colab_type": "text",
    "id": "NVDfDeEKXGyg"
   },
   "source": [
    "This notebook covers a python and tensorflow-based solution to the handwritten digits recognition problem. It is based on tensorflow tutorials and Yann LeCun's early work on CNN's. This toturial compares a simple softmax regressor, a multi-layer perceptron (MLP), and a simple convolutional neural network (CNN)."
   ]
  },
  {
   "cell_type": "markdown",
   "metadata": {
    "colab_type": "text",
    "id": "2iWIyknKXGyh"
   },
   "source": [
    "Load in the MNIST digit dataset directly from tensorflow examples."
   ]
  },
  {
   "cell_type": "code",
   "execution_count": 0,
   "metadata": {
    "colab": {},
    "colab_type": "code",
    "id": "8mQdvlWFXGyr",
    "outputId": "5f7c72ce-8c0a-43aa-f37a-1d95e3e92d55"
   },
   "outputs": [
    {
     "name": "stdout",
     "output_type": "stream",
     "text": [
      "Extracting MNIST_data/train-images-idx3-ubyte.gz\n",
      "Extracting MNIST_data/train-labels-idx1-ubyte.gz\n",
      "Extracting MNIST_data/t10k-images-idx3-ubyte.gz\n",
      "Extracting MNIST_data/t10k-labels-idx1-ubyte.gz\n"
     ]
    }
   ],
   "source": [
    "from tensorflow.examples.tutorials.mnist import input_data\n",
    "mnist = input_data.read_data_sets('MNIST_data', one_hot=True)"
   ]
  },
  {
   "cell_type": "markdown",
   "metadata": {
    "colab_type": "text",
    "id": "u7noN5LyXGy0"
   },
   "source": [
    "The MNIST data is split into three parts: 55,000 data points of training data (mnist.train), 10,000 points of test data (mnist.test), and 5,000 points of validation data (mnist.validation). "
   ]
  },
  {
   "cell_type": "markdown",
   "metadata": {
    "colab_type": "text",
    "id": "sGErV2EfXGy2"
   },
   "source": [
    "Let's import tensorflow and begin an interactive session."
   ]
  },
  {
   "cell_type": "code",
   "execution_count": 0,
   "metadata": {
    "colab": {},
    "colab_type": "code",
    "id": "07l88C-rXGy6"
   },
   "outputs": [],
   "source": [
    "import tensorflow as tf\n",
    "sess = tf.InteractiveSession()"
   ]
  },
  {
   "cell_type": "markdown",
   "metadata": {
    "colab_type": "text",
    "id": "H2n_DDNbXGzB"
   },
   "source": [
    "## Softmax Regression Model on the MNIST Digits Data"
   ]
  },
  {
   "cell_type": "markdown",
   "metadata": {
    "colab_type": "text",
    "id": "Sb23C_oFXGzD"
   },
   "source": [
    "We need to create placeholders for the data. Data will be dumped here when it is batched from the MNIST dataset."
   ]
  },
  {
   "cell_type": "code",
   "execution_count": 0,
   "metadata": {
    "colab": {},
    "colab_type": "code",
    "id": "QMBWPwObXGzE"
   },
   "outputs": [],
   "source": [
    "x = tf.placeholder(tf.float32, shape=[None, 784])\n",
    "y_ = tf.placeholder(tf.float32, shape=[None, 10])"
   ]
  },
  {
   "cell_type": "markdown",
   "metadata": {
    "colab_type": "text",
    "id": "B7Xd3_YqXGzJ"
   },
   "source": [
    "Now let's see what this data looks like."
   ]
  },
  {
   "cell_type": "code",
   "execution_count": 0,
   "metadata": {
    "colab": {},
    "colab_type": "code",
    "id": "3AAY6NNGXGzL",
    "outputId": "ffd6a54c-d0c9-4023-853a-87c6faa9bb96"
   },
   "outputs": [
    {
     "data": {
      "image/png": "[encoded data removed]",
      "text/plain": [
       "<matplotlib.figure.Figure at 0x10dae8ed0>"
      ]
     },
     "metadata": {
      "tags": []
     },
     "output_type": "display_data"
    },
    {
     "data": {
      "image/png": "[encoded data removed]",
      "text/plain": [
       "<matplotlib.figure.Figure at 0x113a93fd0>"
      ]
     },
     "metadata": {
      "tags": []
     },
     "output_type": "display_data"
    },
    {
     "data": {
      "image/png": "[encoded data removed]",
      "text/plain": [
       "<matplotlib.figure.Figure at 0x113c36bd0>"
      ]
     },
     "metadata": {
      "tags": []
     },
     "output_type": "display_data"
    },
    {
     "data": {
      "image/png": "[encoded data removed]",
      "text/plain": [
       "<matplotlib.figure.Figure at 0x113ccc2d0>"
      ]
     },
     "metadata": {
      "tags": []
     },
     "output_type": "display_data"
    }
   ],
   "source": [
    "import matplotlib.pyplot as plt\n",
    "import numpy as np\n",
    "\n",
    "for i in range(4):\n",
    "    batch = mnist.test.next_batch(1)\n",
    "    image = np.asarray(batch[0]).reshape((28, 28))\n",
    "    label = batch[1]\n",
    "    \n",
    "    plt.imshow(image)\n",
    "    plt.axis(\"off\")\n",
    "    plt.show()"
   ]
  },
  {
   "cell_type": "markdown",
   "metadata": {
    "colab_type": "text",
    "id": "kexkRCTsXGzV"
   },
   "source": [
    "We are first going to do softmax logistic regression. This is a linear layer followed by softmax. Note there are NO hidden layers here. Also note that the digit images (28x28 grayscale images) are reshaped into a 784 element vector. "
   ]
  },
  {
   "cell_type": "markdown",
   "metadata": {
    "colab_type": "text",
    "id": "LVlGyewPXGzX"
   },
   "source": [
    "Below we create the parameters (weights) for our linear layer."
   ]
  },
  {
   "cell_type": "code",
   "execution_count": 0,
   "metadata": {
    "colab": {},
    "colab_type": "code",
    "id": "adMOQbLjXGzZ"
   },
   "outputs": [],
   "source": [
    "W = tf.Variable(tf.zeros([784,10]))\n",
    "b = tf.Variable(tf.zeros([10]))"
   ]
  },
  {
   "cell_type": "markdown",
   "metadata": {
    "colab_type": "text",
    "id": "OC0HQMqRXGzh"
   },
   "source": [
    "We then use tensorflows initializer to initialize these weights."
   ]
  },
  {
   "cell_type": "code",
   "execution_count": 0,
   "metadata": {
    "colab": {},
    "colab_type": "code",
    "id": "_G_-L70fXGzj"
   },
   "outputs": [],
   "source": [
    "sess.run(tf.global_variables_initializer())"
   ]
  },
  {
   "cell_type": "markdown",
   "metadata": {
    "colab_type": "text",
    "id": "JpcERlRPXGzs"
   },
   "source": [
    "We create our linear layer as a function of the input and the weights."
   ]
  },
  {
   "cell_type": "code",
   "execution_count": 0,
   "metadata": {
    "colab": {},
    "colab_type": "code",
    "id": "0HCMt6PlXGzt"
   },
   "outputs": [],
   "source": [
    "y_regressor = tf.matmul(x,W) + b"
   ]
  },
  {
   "cell_type": "markdown",
   "metadata": {
    "colab_type": "text",
    "id": "RUSg_tFaXGzy"
   },
   "source": [
    "Below we create our loss function. Note that the cross entropy is $ H_{\\hat{y}}(y) = -\\sum_i \\hat{y}_{i} \\, \\log(y_{i})$ where $\\hat{y}$ is the true probability distribution and is expressed as a one-hot vector, $y$ is the estimated probability distribution, and $i$ indexes elements of these two vectors. Also note that this reduces to $ H_{\\hat{y}}(y) = -\\, \\log(y_{i^*})$ where $i^*$ is the correct label. And if we sum this over all of our samples indexed by $j$, then $H_{\\hat{y}}(y) = -\\sum_j  \\log(y^{(j)}_{i^*})$. This is precisely the same loss function as we used before, but we called the MLE loss. They are one and the same."
   ]
  },
  {
   "cell_type": "code",
   "execution_count": 0,
   "metadata": {
    "colab": {},
    "colab_type": "code",
    "id": "LMWYjBT3XGzy"
   },
   "outputs": [],
   "source": [
    "cross_entropy = tf.reduce_mean(\n",
    "    tf.nn.softmax_cross_entropy_with_logits(labels=y_, logits=y_regressor))"
   ]
  },
  {
   "cell_type": "markdown",
   "metadata": {
    "colab_type": "text",
    "id": "UBEr47A2XGz3"
   },
   "source": [
    "Now we tell tf to use gradient descent with a step size of 0.5 and to minimize the cross entropy."
   ]
  },
  {
   "cell_type": "code",
   "execution_count": 0,
   "metadata": {
    "colab": {},
    "colab_type": "code",
    "id": "HZ-Ew12ZXGz5"
   },
   "outputs": [],
   "source": [
    "train_step = tf.train.GradientDescentOptimizer(0.5).minimize(cross_entropy)"
   ]
  },
  {
   "cell_type": "markdown",
   "metadata": {
    "colab_type": "text",
    "id": "_3uyXEWyXG0A"
   },
   "source": [
    "We train by grabbing mini-batches with 100 samples each and pushing these through the network to update our weights (W and b)."
   ]
  },
  {
   "cell_type": "code",
   "execution_count": 0,
   "metadata": {
    "colab": {},
    "colab_type": "code",
    "id": "kQ8vl2GPXG0C"
   },
   "outputs": [],
   "source": [
    "for _ in range(1000):\n",
    "  batch = mnist.train.next_batch(100)\n",
    "  train_step.run(feed_dict={x: batch[0], y_: batch[1]})"
   ]
  },
  {
   "cell_type": "markdown",
   "metadata": {
    "colab_type": "text",
    "id": "JG8Gxy-FXG0J"
   },
   "source": [
    "We define how to compute correct predicitions."
   ]
  },
  {
   "cell_type": "code",
   "execution_count": 0,
   "metadata": {
    "colab": {},
    "colab_type": "code",
    "id": "ibLcuI-CXG0K"
   },
   "outputs": [],
   "source": [
    "correct_prediction = tf.equal(tf.argmax(y_regressor,1), tf.argmax(y_,1))"
   ]
  },
  {
   "cell_type": "markdown",
   "metadata": {
    "colab_type": "text",
    "id": "S3Xr-YN9XG0N"
   },
   "source": [
    "And from these correct predictions how to compute the accuracy."
   ]
  },
  {
   "cell_type": "code",
   "execution_count": 0,
   "metadata": {
    "colab": {},
    "colab_type": "code",
    "id": "8UDAJXaVXG0Q"
   },
   "outputs": [],
   "source": [
    "accuracy = tf.reduce_mean(tf.cast(correct_prediction, tf.float32))"
   ]
  },
  {
   "cell_type": "code",
   "execution_count": 0,
   "metadata": {
    "colab": {},
    "colab_type": "code",
    "id": "pnurCgtVXG0U",
    "outputId": "888dfbc5-3f73-489d-c44c-c34c53d3561c"
   },
   "outputs": [
    {
     "name": "stdout",
     "output_type": "stream",
     "text": [
      "0.9192\n"
     ]
    }
   ],
   "source": [
    "print(accuracy.eval(feed_dict={x: mnist.test.images, y_: mnist.test.labels}))"
   ]
  },
  {
   "cell_type": "markdown",
   "metadata": {
    "colab_type": "text",
    "id": "OftfxflTXG0Y"
   },
   "source": [
    "Let's print out some test images and the corresponsing predictions made by the network. But first, let's add an output to the computation graph that computes the softmax probabilities."
   ]
  },
  {
   "cell_type": "code",
   "execution_count": 0,
   "metadata": {
    "colab": {},
    "colab_type": "code",
    "id": "ZvToPFdzXG0a"
   },
   "outputs": [],
   "source": [
    "y_probs_regressor = tf.nn.softmax(logits=y_regressor, name=None)"
   ]
  },
  {
   "cell_type": "code",
   "execution_count": 0,
   "metadata": {
    "colab": {},
    "colab_type": "code",
    "id": "OLXs538MXG0e",
    "outputId": "9ee5fd30-21fa-47a8-c6ec-245957cfa756",
    "scrolled": false
   },
   "outputs": [
    {
     "data": {
      "image/png": "[encoded data removed]",
      "text/plain": [
       "<matplotlib.figure.Figure at 0x12772b290>"
      ]
     },
     "metadata": {
      "tags": []
     },
     "output_type": "display_data"
    },
    {
     "name": "stdout",
     "output_type": "stream",
     "text": [
      "Label =  [[ 0.  0.  0.  0.  1.  0.  0.  0.  0.  0.]]\n",
      "Class probabilities =  [[  1.67203823e-03   6.03468334e-06   6.42732251e-03   1.87764294e-04\n",
      "    9.26438749e-01   4.59894276e-04   3.28759407e-03   1.33758076e-02\n",
      "    5.87336766e-03   4.22714762e-02]]\n"
     ]
    },
    {
     "data": {
      "image/png": "[encoded data removed]",
      "text/plain": [
       "<matplotlib.figure.Figure at 0x11058bad0>"
      ]
     },
     "metadata": {
      "tags": []
     },
     "output_type": "display_data"
    },
    {
     "name": "stdout",
     "output_type": "stream",
     "text": [
      "Label =  [[ 0.  1.  0.  0.  0.  0.  0.  0.  0.  0.]]\n",
      "Class probabilities =  [[  9.20873049e-07   9.87897158e-01   2.22241855e-03   1.86755520e-03\n",
      "    3.91291178e-05   9.39880556e-05   3.30834628e-05   3.73039884e-03\n",
      "    3.64026078e-03   4.75243636e-04]]\n"
     ]
    },
    {
     "data": {
      "image/png": "[encoded data removed]",
      "text/plain": [
       "<matplotlib.figure.Figure at 0x11ed9c910>"
      ]
     },
     "metadata": {
      "tags": []
     },
     "output_type": "display_data"
    },
    {
     "name": "stdout",
     "output_type": "stream",
     "text": [
      "Label =  [[ 0.  0.  0.  0.  1.  0.  0.  0.  0.  0.]]\n",
      "Class probabilities =  [[  5.94127778e-06   1.63856862e-06   2.03961849e-06   2.16156419e-04\n",
      "    9.74607527e-01   5.81776584e-03   5.42712551e-05   1.18222029e-03\n",
      "    1.06608802e-02   7.45144626e-03]]\n"
     ]
    },
    {
     "data": {
      "image/png": "[encoded data removed]",
      "text/plain": [
       "<matplotlib.figure.Figure at 0x11ed6d950>"
      ]
     },
     "metadata": {
      "tags": []
     },
     "output_type": "display_data"
    },
    {
     "name": "stdout",
     "output_type": "stream",
     "text": [
      "Label =  [[ 0.  0.  0.  0.  0.  0.  0.  0.  0.  1.]]\n",
      "Class probabilities =  [[  1.32794867e-06   3.03926598e-03   1.02855719e-03   3.06596723e-03\n",
      "    1.28692212e-02   9.07216594e-03   2.42878319e-04   1.96316512e-03\n",
      "    6.66321721e-03   9.62054253e-01]]\n"
     ]
    },
    {
     "data": {
      "image/png": "[encoded data removed]",
      "text/plain": [
       "<matplotlib.figure.Figure at 0x11edb4c90>"
      ]
     },
     "metadata": {
      "tags": []
     },
     "output_type": "display_data"
    },
    {
     "name": "stdout",
     "output_type": "stream",
     "text": [
      "Label =  [[ 0.  0.  0.  0.  0.  1.  0.  0.  0.  0.]]\n",
      "Class probabilities =  [[  8.77247099e-03   5.61122533e-06   5.13427751e-03   1.86741403e-07\n",
      "    6.87260833e-03   3.76259210e-03   9.73673403e-01   4.59226328e-07\n",
      "    1.65836595e-03   1.20098288e-04]]\n"
     ]
    }
   ],
   "source": [
    "for i in range(5):\n",
    "    batch = mnist.test.next_batch(1)\n",
    "    image = np.asarray(batch[0]).reshape((28, 28))\n",
    "    label = batch[1]\n",
    "    \n",
    "    plt.imshow(image)\n",
    "    plt.axis(\"off\")\n",
    "    plt.show()\n",
    "    print \"Label = \", label\n",
    "    print \"Class probabilities = \", y_probs_regressor.eval(feed_dict={\n",
    "        x: batch[0], y_: batch[1]})"
   ]
  },
  {
   "cell_type": "markdown",
   "metadata": {
    "colab_type": "text",
    "id": "DYGVabklXG0j"
   },
   "source": [
    "## Softmax Multi-Layer Perceptron on the MNIST Digits Data"
   ]
  },
  {
   "cell_type": "markdown",
   "metadata": {
    "colab_type": "text",
    "id": "kP2SV3UnXG0k"
   },
   "source": [
    "Here we define both weight and bias variables and how they are to be initialized. Note that the weights are are distributed according to a standard normal distribution (mean = 0, std = 0.1). This random initialization helps avoid hidden units get stuck together, as units that start with the same value will be updated identically in the non-convolutional layers. In contrast, the bias variables are set to a small positive number--this is help prevent hidden units from starting out and getting stuck in the zero part of the ReLU. "
   ]
  },
  {
   "cell_type": "code",
   "execution_count": 0,
   "metadata": {
    "colab": {},
    "colab_type": "code",
    "collapsed": true,
    "id": "kJtB9IQ2XG0m"
   },
   "outputs": [],
   "source": [
    "def weight_variable(shape):\n",
    "  initial = tf.truncated_normal(shape, stddev=0.1)\n",
    "  return tf.Variable(initial)\n",
    "\n",
    "def bias_variable(shape):\n",
    "  initial = tf.constant(0.1, shape=shape)\n",
    "  return tf.Variable(initial)"
   ]
  },
  {
   "cell_type": "markdown",
   "metadata": {
    "colab_type": "text",
    "id": "sC7lTPGOXG0p"
   },
   "source": [
    "Next we create placeholders for the training data."
   ]
  },
  {
   "cell_type": "code",
   "execution_count": 0,
   "metadata": {
    "colab": {},
    "colab_type": "code",
    "collapsed": true,
    "id": "woTxJzCxXG0p"
   },
   "outputs": [],
   "source": [
    "x = tf.placeholder(tf.float32, shape=[None, 784])\n",
    "y_ = tf.placeholder(tf.float32, shape=[None, 10])"
   ]
  },
  {
   "cell_type": "markdown",
   "metadata": {
    "colab_type": "text",
    "id": "ItxLqw1OXG0t"
   },
   "source": [
    "We create the first and only fully connected hidden layer."
   ]
  },
  {
   "cell_type": "code",
   "execution_count": 0,
   "metadata": {
    "colab": {},
    "colab_type": "code",
    "id": "j9ADcbLWXG0v"
   },
   "outputs": [],
   "source": [
    "W_h = weight_variable([784, 512])\n",
    "b_h = bias_variable([512])\n",
    "h = tf.nn.relu(tf.matmul(x, W_h) + b_h)"
   ]
  },
  {
   "cell_type": "markdown",
   "metadata": {
    "colab_type": "text",
    "id": "EJCFoTSjXG0x"
   },
   "source": [
    "We create the output layer."
   ]
  },
  {
   "cell_type": "code",
   "execution_count": 0,
   "metadata": {
    "colab": {},
    "colab_type": "code",
    "collapsed": true,
    "id": "RXyJY-aSXG0z"
   },
   "outputs": [],
   "source": [
    "W_out = weight_variable([512, 10])\n",
    "b_out = bias_variable([10])\n",
    "y_MLP = tf.matmul(h, W_out) + b_out"
   ]
  },
  {
   "cell_type": "markdown",
   "metadata": {
    "colab_type": "text",
    "id": "edXeXxccXG0-"
   },
   "source": [
    "We again use cross entropy loss on a softmax distribution on the outputs."
   ]
  },
  {
   "cell_type": "code",
   "execution_count": 0,
   "metadata": {
    "colab": {},
    "colab_type": "code",
    "collapsed": true,
    "id": "8zf336V5XG0_"
   },
   "outputs": [],
   "source": [
    "cross_entropy = tf.reduce_mean(\n",
    "    tf.nn.softmax_cross_entropy_with_logits(labels=y_, logits=y_MLP))"
   ]
  },
  {
   "cell_type": "markdown",
   "metadata": {
    "colab_type": "text",
    "id": "A4QQWjIHXG1B"
   },
   "source": [
    "For training we choose an Adam learning rate and update rule. We then run this for 20,000 iterations and evaluate our accuracy after training. Note this softmax MLP network does quite a bit bettter than our softmax regressor. The non-linear layer really helps makes sense of the data! But we can do better still..."
   ]
  },
  {
   "cell_type": "code",
   "execution_count": 0,
   "metadata": {
    "colab": {},
    "colab_type": "code",
    "id": "bk6-33kHXG1C",
    "outputId": "ea2bbc3f-c136-4c5c-8e8b-566e535c2d34",
    "scrolled": false
   },
   "outputs": [
    {
     "name": "stdout",
     "output_type": "stream",
     "text": [
      "step 0, training accuracy 0.2\n",
      "step 1000, training accuracy 0.9\n",
      "step 2000, training accuracy 0.9\n",
      "step 3000, training accuracy 0.98\n",
      "step 4000, training accuracy 0.98\n",
      "step 5000, training accuracy 0.94\n",
      "step 6000, training accuracy 0.96\n",
      "step 7000, training accuracy 1\n",
      "step 8000, training accuracy 0.96\n",
      "step 9000, training accuracy 1\n",
      "step 10000, training accuracy 0.98\n",
      "step 11000, training accuracy 1\n",
      "step 12000, training accuracy 0.94\n",
      "step 13000, training accuracy 0.98\n",
      "step 14000, training accuracy 1\n",
      "step 15000, training accuracy 0.96\n",
      "step 16000, training accuracy 0.96\n",
      "step 17000, training accuracy 0.98\n",
      "step 18000, training accuracy 1\n",
      "step 19000, training accuracy 0.96\n",
      "test accuracy 0.9779\n"
     ]
    }
   ],
   "source": [
    "train_step = tf.train.AdamOptimizer(1e-4).minimize(cross_entropy)\n",
    "correct_prediction = tf.equal(tf.argmax(y_MLP,1), tf.argmax(y_,1))\n",
    "accuracy = tf.reduce_mean(tf.cast(correct_prediction, tf.float32))\n",
    "sess.run(tf.global_variables_initializer())\n",
    "for i in range(20000):\n",
    "  batch = mnist.train.next_batch(50)\n",
    "  if i%1000 == 0:\n",
    "    train_accuracy = accuracy.eval(feed_dict={\n",
    "        x:batch[0], y_: batch[1]})\n",
    "    print(\"step %d, training accuracy %g\"%(i, train_accuracy))\n",
    "  train_step.run(feed_dict={x: batch[0], y_: batch[1]})\n",
    "\n",
    "print(\"test accuracy %g\"%accuracy.eval(feed_dict={\n",
    "    x: mnist.test.images, y_: mnist.test.labels}))"
   ]
  },
  {
   "cell_type": "markdown",
   "metadata": {
    "colab_type": "text",
    "id": "oD5JiTzrXG1F"
   },
   "source": [
    "## A Simple Convolutional Neural Network: LeNet"
   ]
  },
  {
   "cell_type": "markdown",
   "metadata": {
    "colab_type": "text",
    "id": "lUECGuDkXG1G"
   },
   "source": [
    "Here we make our first CNN. It's quite simple network, but it's surprisingly good at this handwritten digit recognition task. This a variant on Yann LeCun's CNN network that really helped to move deep learning forward."
   ]
  },
  {
   "cell_type": "markdown",
   "metadata": {
    "colab_type": "text",
    "id": "6kbwsttSXG1H"
   },
   "source": [
    "We define both weight and bias variables and how they are to be initialized. Note that the weights are are distributed according to a standard normal distribution (mean = 0, std = 0.1). This random initialization helps avoid hidden units get stuck together, as units that start with the same value will be updated identically in the non-convolutional layers. In contrast, the bias variables are set to a small positive number--this is help prevent hidden units from starting out and getting stuck in the zero part of the ReLu. "
   ]
  },
  {
   "cell_type": "code",
   "execution_count": 0,
   "metadata": {
    "colab": {},
    "colab_type": "code",
    "id": "zcMLlCLFXG1I"
   },
   "outputs": [],
   "source": [
    "def weight_variable(shape):\n",
    "  initial = tf.truncated_normal(shape, stddev=0.1)\n",
    "  return tf.Variable(initial)\n",
    "\n",
    "def bias_variable(shape):\n",
    "  initial = tf.constant(0.1, shape=shape)\n",
    "  return tf.Variable(initial)"
   ]
  },
  {
   "cell_type": "markdown",
   "metadata": {
    "colab_type": "text",
    "id": "o7nWdfcgXG1L"
   },
   "source": [
    "Next we define how the convolution is to be computed and the extent and type of pooling. The convolution will use a 5x5 kernel and will pad the image with zeros around the edges and use a stride of 1 pixel so that the resulting image (after convolution) has the same size as the original input image. The network will learn the weights for a stack of 32 separate kernels along with 32 bias variables. Finally, after the ReLu is performed the result will be under go 2x2 max pooling, thus halfing both dimensions of the image. The choices for the stride, padding, and pooling are not parameters that the network needs to estimate. Rather these are termed \"hyperparamters\" that are usually set by the network designer."
   ]
  },
  {
   "cell_type": "code",
   "execution_count": 0,
   "metadata": {
    "colab": {},
    "colab_type": "code",
    "id": "FCrrxMdmXG1L"
   },
   "outputs": [],
   "source": [
    "def conv2d(x, W):\n",
    "  return tf.nn.conv2d(x, W, strides=[1, 1, 1, 1], padding='SAME')\n",
    "\n",
    "def max_pool_2x2(x):\n",
    "  return tf.nn.max_pool(x, ksize=[1, 2, 2, 1],\n",
    "                        strides=[1, 2, 2, 1], padding='SAME')"
   ]
  },
  {
   "cell_type": "markdown",
   "metadata": {
    "colab_type": "text",
    "id": "blA3fNqmXG1O"
   },
   "source": [
    "This creates the weight and bias variables for the first convolutional layer as described above. Note the output has depth 32, so there will be 32 feature images after this layer."
   ]
  },
  {
   "cell_type": "code",
   "execution_count": 0,
   "metadata": {
    "colab": {},
    "colab_type": "code",
    "id": "jXur3cjdXG1P"
   },
   "outputs": [],
   "source": [
    "W_conv1 = weight_variable([5, 5, 1, 32])\n",
    "b_conv1 = bias_variable([32])"
   ]
  },
  {
   "cell_type": "markdown",
   "metadata": {
    "colab_type": "text",
    "id": "LOmqD6gDXG1S"
   },
   "source": [
    "Unlike for our softmax regressor above, here we need keep the images as images and not collapse these into vectors; this allows us to perform the 2D convolution."
   ]
  },
  {
   "cell_type": "code",
   "execution_count": 0,
   "metadata": {
    "colab": {},
    "colab_type": "code",
    "id": "jYjEvn76XG1T"
   },
   "outputs": [],
   "source": [
    "x_image = tf.reshape(x, [-1,28,28,1])"
   ]
  },
  {
   "cell_type": "markdown",
   "metadata": {
    "colab_type": "text",
    "id": "GwViqMy2XG1W"
   },
   "source": [
    "Finally, we define are first layer of our CNN!"
   ]
  },
  {
   "cell_type": "code",
   "execution_count": 0,
   "metadata": {
    "colab": {},
    "colab_type": "code",
    "id": "qPyyyucqXG1W"
   },
   "outputs": [],
   "source": [
    "h_conv1 = tf.nn.relu(conv2d(x_image, W_conv1) + b_conv1)\n",
    "h_pool1 = max_pool_2x2(h_conv1)"
   ]
  },
  {
   "cell_type": "markdown",
   "metadata": {
    "colab_type": "text",
    "id": "dWou2RmwXG1Y"
   },
   "source": [
    "And wasting no time, we define are second layer. The second layer will have to process 32 feature images coming out of the first layer. Note that the images input to this layer have $\\frac{1}{4}$ the number of pixels as the original input images due to the 2x2 pooling in the previous layer. Note that convolution layer NOT fully connected as our previous hidden layers have been. A unit in the output layer has a limited \"receptive field.\" Its connections to the input layer are spatially limited by the kernel (or filter) size. Also, because of weight sharing in convolutional layers, the number of parameters for a convolutional is the size of the kernel x the depth of the input layer x depth of the output layer + depth of the output layer. So for the second layer of our ConvNet, we have 5 x 5 x 32 x 64 + 64 = 51,264 parameters. "
   ]
  },
  {
   "cell_type": "code",
   "execution_count": 0,
   "metadata": {
    "colab": {},
    "colab_type": "code",
    "id": "C_Hjp8QrXG1Z"
   },
   "outputs": [],
   "source": [
    "W_conv2 = weight_variable([5, 5, 32, 64])\n",
    "b_conv2 = bias_variable([64])\n",
    "\n",
    "h_conv2 = tf.nn.relu(conv2d(h_pool1, W_conv2) + b_conv2)\n",
    "h_pool2 = max_pool_2x2(h_conv2)"
   ]
  },
  {
   "cell_type": "markdown",
   "metadata": {
    "colab_type": "text",
    "id": "hxZiLpnvXG1b"
   },
   "source": [
    "After the pooling stage of our second convolutional layer, we have 64 7x7 \"feature\" images. In one penultimate fully connected hidden layer, we are going to map these feature imges to a 1024 dimensional feature space. Note we need to flatten these feature images to do this."
   ]
  },
  {
   "cell_type": "code",
   "execution_count": 0,
   "metadata": {
    "colab": {},
    "colab_type": "code",
    "id": "nvcEgLXcXG1e"
   },
   "outputs": [],
   "source": [
    "W_fc1 = weight_variable([7 * 7 * 64, 1024])\n",
    "b_fc1 = bias_variable([1024])\n",
    "\n",
    "h_pool2_flat = tf.reshape(h_pool2, [-1, 7*7*64])\n",
    "h_fc1 = tf.nn.relu(tf.matmul(h_pool2_flat, W_fc1) + b_fc1)"
   ]
  },
  {
   "cell_type": "markdown",
   "metadata": {
    "colab_type": "text",
    "id": "X70JVZW2XG1g"
   },
   "source": [
    "Dropout is added here, although it is not really needed for such small network."
   ]
  },
  {
   "cell_type": "code",
   "execution_count": 0,
   "metadata": {
    "colab": {},
    "colab_type": "code",
    "id": "vMZUW7U8XG1h"
   },
   "outputs": [],
   "source": [
    "keep_prob = tf.placeholder(tf.float32)\n",
    "h_fc1_drop = tf.nn.dropout(h_fc1, keep_prob)"
   ]
  },
  {
   "cell_type": "markdown",
   "metadata": {
    "colab_type": "text",
    "id": "Kfp6SMSHXG1l"
   },
   "source": [
    "We have a final linear output layer mapping features to scores topped off with a softmax cross entropy loss function, as explained earlier."
   ]
  },
  {
   "cell_type": "code",
   "execution_count": 0,
   "metadata": {
    "colab": {},
    "colab_type": "code",
    "id": "8OihaWsdXG1m"
   },
   "outputs": [],
   "source": [
    "W_fc2 = weight_variable([1024, 10])\n",
    "b_fc2 = bias_variable([10])\n",
    "\n",
    "y_conv = tf.matmul(h_fc1_drop, W_fc2) + b_fc2"
   ]
  },
  {
   "cell_type": "code",
   "execution_count": 0,
   "metadata": {
    "colab": {},
    "colab_type": "code",
    "id": "rNBvmlJDXG1r"
   },
   "outputs": [],
   "source": [
    "cross_entropy = tf.reduce_mean(\n",
    "    tf.nn.softmax_cross_entropy_with_logits(labels=y_, logits=y_conv))"
   ]
  },
  {
   "cell_type": "markdown",
   "metadata": {
    "colab_type": "text",
    "id": "XJUNYz09XG1t"
   },
   "source": [
    "For training we choose an Adam learning rate and update rule. We then run this for 20,000 iterations and evaluate our accuracy after training."
   ]
  },
  {
   "cell_type": "code",
   "execution_count": 0,
   "metadata": {
    "colab": {},
    "colab_type": "code",
    "id": "EJD0MZV6XG1v",
    "outputId": "b7061acf-a61b-47c1-e927-fda5292c3c55"
   },
   "outputs": [
    {
     "name": "stdout",
     "output_type": "stream",
     "text": [
      "step 0, training accuracy 0.16\n",
      "step 1000, training accuracy 0.94\n",
      "step 2000, training accuracy 1\n",
      "step 3000, training accuracy 0.98\n",
      "step 4000, training accuracy 1\n",
      "step 5000, training accuracy 0.96\n",
      "step 6000, training accuracy 0.98\n",
      "step 7000, training accuracy 1\n",
      "step 8000, training accuracy 1\n",
      "step 9000, training accuracy 0.98\n",
      "step 10000, training accuracy 1\n",
      "step 11000, training accuracy 1\n",
      "step 12000, training accuracy 1\n",
      "step 13000, training accuracy 1\n",
      "step 14000, training accuracy 1\n",
      "step 15000, training accuracy 1\n",
      "step 16000, training accuracy 1\n",
      "step 17000, training accuracy 1\n",
      "step 18000, training accuracy 1\n",
      "step 19000, training accuracy 1\n",
      "test accuracy 0.9925\n"
     ]
    }
   ],
   "source": [
    "train_step = tf.train.AdamOptimizer(1e-4).minimize(cross_entropy)\n",
    "correct_prediction = tf.equal(tf.argmax(y_conv,1), tf.argmax(y_,1))\n",
    "accuracy = tf.reduce_mean(tf.cast(correct_prediction, tf.float32))\n",
    "sess.run(tf.global_variables_initializer())\n",
    "for i in range(20000):\n",
    "  batch = mnist.train.next_batch(50)\n",
    "  if i%1000 == 0:\n",
    "    train_accuracy = accuracy.eval(feed_dict={\n",
    "        x:batch[0], y_: batch[1], keep_prob: 1.0})\n",
    "    print(\"step %d, training accuracy %g\"%(i, train_accuracy))\n",
    "  train_step.run(feed_dict={x: batch[0], y_: batch[1], keep_prob: 0.5})\n",
    "\n",
    "print(\"test accuracy %g\"%accuracy.eval(feed_dict={\n",
    "    x: mnist.test.images, y_: mnist.test.labels, keep_prob: 1.0}))"
   ]
  },
  {
   "cell_type": "markdown",
   "metadata": {
    "colab_type": "text",
    "id": "S24_lY_9XG1z"
   },
   "source": [
    "We add an output to compuational graph that computes the label probabilities."
   ]
  },
  {
   "cell_type": "code",
   "execution_count": 0,
   "metadata": {
    "colab": {},
    "colab_type": "code",
    "id": "Ifzb7uKKXG1z"
   },
   "outputs": [],
   "source": [
    "y_probs = tf.nn.softmax(logits=y_conv, name=None)"
   ]
  },
  {
   "cell_type": "code",
   "execution_count": 0,
   "metadata": {
    "colab": {},
    "colab_type": "code",
    "id": "j1-bPx3HXG12",
    "outputId": "cde47a4b-22d3-4a7c-d9e6-e9399ac8f14e"
   },
   "outputs": [
    {
     "name": "stdout",
     "output_type": "stream",
     "text": [
      "test accuracy 0.9925\n"
     ]
    }
   ],
   "source": [
    "print(\"test accuracy %g\"%accuracy.eval(feed_dict={\n",
    "    x: mnist.test.images, y_: mnist.test.labels, keep_prob: 1.0}))"
   ]
  },
  {
   "cell_type": "markdown",
   "metadata": {
    "colab_type": "text",
    "id": "uBu3mcUgXG16"
   },
   "source": [
    "Next we step through some test examples and see how well the network is doing."
   ]
  },
  {
   "cell_type": "code",
   "execution_count": 0,
   "metadata": {
    "colab": {},
    "colab_type": "code",
    "id": "kNi-w-dfXG17",
    "outputId": "9322d686-9353-41cf-caef-41272a3b8693"
   },
   "outputs": [
    {
     "data": {
      "image/png": "[encoded data removed]",
      "text/plain": [
       "<matplotlib.figure.Figure at 0x11d599f10>"
      ]
     },
     "metadata": {
      "tags": []
     },
     "output_type": "display_data"
    },
    {
     "name": "stdout",
     "output_type": "stream",
     "text": [
      "Label =  [[ 0.  0.  0.  0.  0.  0.  0.  0.  0.  1.]]\n",
      "Class probabilities =  [[  5.28820287e-14   1.61565119e-12   1.47112888e-12   1.99402633e-10\n",
      "    8.20477112e-07   1.07506337e-09   4.57562201e-15   8.61227306e-07\n",
      "    3.80472631e-09   9.99998331e-01]]\n"
     ]
    },
    {
     "data": {
      "image/png": "[encoded data removed]",
      "text/plain": [
       "<matplotlib.figure.Figure at 0x11ec3dcd0>"
      ]
     },
     "metadata": {
      "tags": []
     },
     "output_type": "display_data"
    },
    {
     "name": "stdout",
     "output_type": "stream",
     "text": [
      "Label =  [[ 1.  0.  0.  0.  0.  0.  0.  0.  0.  0.]]\n",
      "Class probabilities =  [[  1.00000000e+00   3.50560683e-12   1.00434594e-09   1.73949210e-14\n",
      "    8.60713218e-16   3.75027960e-12   9.13440157e-11   2.25712261e-11\n",
      "    1.23941948e-12   4.15561162e-11]]\n"
     ]
    },
    {
     "data": {
      "image/png": "[encoded data removed]",
      "text/plain": [
       "<matplotlib.figure.Figure at 0x1274c8090>"
      ]
     },
     "metadata": {
      "tags": []
     },
     "output_type": "display_data"
    },
    {
     "name": "stdout",
     "output_type": "stream",
     "text": [
      "Label =  [[ 0.  0.  0.  0.  0.  0.  1.  0.  0.  0.]]\n",
      "Class probabilities =  [[  1.41643053e-09   7.71405238e-14   1.62943230e-15   5.57100261e-15\n",
      "    2.53674198e-13   1.26207560e-11   1.00000000e+00   4.33625261e-15\n",
      "    3.95802037e-11   7.02078399e-16]]\n"
     ]
    },
    {
     "data": {
      "image/png": "[encoded data removed]",
      "text/plain": [
       "<matplotlib.figure.Figure at 0x1277466d0>"
      ]
     },
     "metadata": {
      "tags": []
     },
     "output_type": "display_data"
    },
    {
     "name": "stdout",
     "output_type": "stream",
     "text": [
      "Label =  [[ 0.  0.  0.  0.  0.  0.  0.  0.  0.  1.]]\n",
      "Class probabilities =  [[  3.76756785e-12   1.12312442e-11   3.20851019e-11   2.01345451e-09\n",
      "    2.59802891e-05   6.02736749e-09   2.61297559e-12   4.99466495e-08\n",
      "    6.30753760e-09   9.99974012e-01]]\n"
     ]
    },
    {
     "data": {
      "image/png": "[encoded data removed]",
      "text/plain": [
       "<matplotlib.figure.Figure at 0x12778c250>"
      ]
     },
     "metadata": {
      "tags": []
     },
     "output_type": "display_data"
    },
    {
     "name": "stdout",
     "output_type": "stream",
     "text": [
      "Label =  [[ 1.  0.  0.  0.  0.  0.  0.  0.  0.  0.]]\n",
      "Class probabilities =  [[  1.00000000e+00   1.98105139e-12   1.07032493e-12   2.90848210e-14\n",
      "    8.34232247e-15   6.83068185e-12   1.36369707e-08   4.16134821e-10\n",
      "    5.86183532e-12   1.50796278e-10]]\n"
     ]
    }
   ],
   "source": [
    "for i in range(5):\n",
    "    batch = mnist.test.next_batch(1)\n",
    "    image = np.asarray(batch[0]).reshape((28, 28))\n",
    "    label = batch[1]\n",
    "    \n",
    "    plt.imshow(image)\n",
    "    plt.axis(\"off\")\n",
    "    plt.show()\n",
    "    print \"Label = \", label\n",
    "    print \"Class probabilities = \", y_probs.eval(feed_dict={\n",
    "        x: batch[0], y_: batch[1], keep_prob: 1.0})"
   ]
  },
  {
   "cell_type": "markdown",
   "metadata": {
    "colab_type": "text",
    "collapsed": true,
    "id": "Gkxd9ubsXG19"
   },
   "source": [
    "### PyTorch Implementation: Softmax Regression Model\n",
    "### NOTE: No validation set is included in the dataset. Therefore, for parts e and f where it says to calculate the validation losses and accuracy, the training data is used as no validation set is given. Testing set is used purely for testing at the end and is not touched during training for parameter tuning"
   ]
  },
  {
   "cell_type": "code",
   "execution_count": 2,
   "metadata": {
    "colab": {},
    "colab_type": "code",
    "id": "lWXmGuwOXG1-"
   },
   "outputs": [],
   "source": [
    "# Import necessary modules\n",
    "import torch\n",
    "import torchvision.datasets as datasets\n",
    "import matplotlib.pyplot as plt\n",
    "import numpy as np\n",
    "from torch.autograd import Variable\n",
    "import torchvision.transforms as transforms\n",
    "import torch.nn.functional as func"
   ]
  },
  {
   "cell_type": "code",
   "execution_count": 3,
   "metadata": {
    "colab": {},
    "colab_type": "code",
    "id": "TJBCfY02XG2B"
   },
   "outputs": [],
   "source": [
    "# Download the MNIST data and save it to the 'data' folder from which the notebook is running\n",
    "# This loads the training data and the testing data which is then transformed to a PyTorch Tensor\n",
    "# which allows the image to be in the proper type/form such that it can be understood and taken in by the PyTorch network\n",
    "trainset = datasets.MNIST(root='./data', train=True, download=True, transform=transforms.ToTensor())\n",
    "testset  = datasets.MNIST(root='./data', train=False, download=True, transform=transforms.ToTensor())"
   ]
  },
  {
   "cell_type": "code",
   "execution_count": 4,
   "metadata": {
    "colab": {},
    "colab_type": "code",
    "id": "ht2ebnMVXG2G"
   },
   "outputs": [],
   "source": [
    "# Store the training and the testing data in a PyTorch dataloader.\n",
    "# Shuffle the training data to add additional randomization\n",
    "# This provides a data structure which is iterable over the dataset in batches.\n",
    "# Total size of the dataloader is (size of the dataset)/batch\n",
    "trainloader = torch.utils.data.DataLoader(trainset, batch_size=100, shuffle=True)\n",
    "testloader = torch.utils.data.DataLoader(testset, batch_size=100, shuffle=False)"
   ]
  },
  {
   "cell_type": "code",
   "execution_count": 13,
   "metadata": {
    "colab": {},
    "colab_type": "code",
    "id": "CSyuhMhXXG2K"
   },
   "outputs": [],
   "source": [
    "# Define a neural network structure/class, subclass of the torch.nn.Module class \n",
    "class MyNN(torch.nn.Module):\n",
    "    # Initialization function, taking in the input dimensions and output dimensions for the network\n",
    "    def __init__(self, input_dim, output_dim):\n",
    "        # Initialization of the super/parent class\n",
    "        super(MyNN, self).__init__()\n",
    "        # Apply a linear transformation to the data using weights and bias\n",
    "        # The weights and bias are randomly initialized when the network is initialized\n",
    "        self.linear = torch.nn.Linear(input_dim, output_dim, bias=True)\n",
    "\n",
    "    # Function called for the forward pass of the network, going through the layers\n",
    "    def forward(self, x):\n",
    "        # Apply a linear transformation to the input data using weights and bias such that output data\n",
    "        # has the dimension equivalent to output_dim\n",
    "        outputs = self.linear(x)\n",
    "        return outputs\n",
    "\n",
    "# Initialize the neural network with the required dimensions\n",
    "net = MyNN(784, 10)\n",
    "# Compute the softmax values/scores and corresponding cross entropy loss\n",
    "losses = torch.nn.CrossEntropyLoss()\n",
    "# Use Stochastic Gradient Descent to find optimal network parameters, given by net.parameters() \n",
    "# Using a learning rate of 0.5\n",
    "optimizer = torch.optim.SGD(net.parameters(), lr=0.5)"
   ]
  },
  {
   "cell_type": "code",
   "execution_count": 14,
   "metadata": {
    "colab": {
     "base_uri": "https://localhost:8080/",
     "height": 660
    },
    "colab_type": "code",
    "id": "Ah1QdOAeXG2M",
    "outputId": "519184dd-1657-4919-994f-10b7f3f2f766"
   },
   "outputs": [
    {
     "name": "stdout",
     "output_type": "stream",
     "text": [
      "Epoch 1 - Loss: 0.39350812541941804; Accuracy 0.8872\n",
      "Epoch 2 - Loss: 0.30630673545102277; Accuracy 0.9141333333333334\n",
      "Epoch 3 - Loss: 0.29224055173496405; Accuracy 0.9181166666666667\n",
      "Epoch 4 - Loss: 0.28476144970705114; Accuracy 0.9194666666666667\n",
      "Epoch 5 - Loss: 0.2794588514665763; Accuracy 0.92155\n",
      "Epoch 6 - Loss: 0.27506434883922337; Accuracy 0.9231666666666667\n",
      "Epoch 7 - Loss: 0.2721670275181532; Accuracy 0.9237333333333333\n",
      "Epoch 8 - Loss: 0.2699553538734714; Accuracy 0.925\n",
      "Epoch 9 - Loss: 0.26768406967322034; Accuracy 0.9249166666666667\n",
      "Epoch 10 - Loss: 0.266759968350331; Accuracy 0.9253166666666667\n",
      "Epoch 11 - Loss: 0.2640115410213669; Accuracy 0.9267166666666666\n",
      "Epoch 12 - Loss: 0.2630750907647113; Accuracy 0.9262\n",
      "Epoch 13 - Loss: 0.2625759608174364; Accuracy 0.9267333333333333\n",
      "Epoch 14 - Loss: 0.260915706679225; Accuracy 0.9269166666666667\n",
      "Epoch 15 - Loss: 0.25918202102184296; Accuracy 0.92875\n",
      "Epoch 16 - Loss: 0.2584140929145118; Accuracy 0.9278833333333333\n",
      "Epoch 17 - Loss: 0.2577114476263523; Accuracy 0.9285166666666667\n",
      "Epoch 18 - Loss: 0.2566268930894633; Accuracy 0.92885\n",
      "Epoch 19 - Loss: 0.256240173317492; Accuracy 0.9284666666666667\n",
      "Epoch 20 - Loss: 0.25564204961061476; Accuracy 0.9290166666666667\n",
      "Epoch 21 - Loss: 0.2541702089086175; Accuracy 0.92865\n",
      "Epoch 22 - Loss: 0.2542532225325704; Accuracy 0.9297\n",
      "Epoch 23 - Loss: 0.2533020056411624; Accuracy 0.9296833333333333\n",
      "Epoch 24 - Loss: 0.2529086059952776; Accuracy 0.9305333333333333\n",
      "Epoch 25 - Loss: 0.2524715970208247; Accuracy 0.9295833333333333\n"
     ]
    }
   ],
   "source": [
    "# Define a path to save the module parameters\n",
    "nn_model_path = 'nn_model_path.pt'\n",
    "# Constants to store losses \n",
    "nn_min_loss = 100\n",
    "# Number of epochs\n",
    "epochs = 25\n",
    "# Go through each epoch\n",
    "for e in range(epochs):\n",
    "    # Get loss per epoch\n",
    "    running_loss = 0\n",
    "    # Store the number of incorrect and correct predictions during training\n",
    "    correct = 0\n",
    "    incorrect = 0\n",
    "    # Go through the data stored in the trainloader\n",
    "    for i, (X, y) in enumerate(trainloader):\n",
    "        # Reshape image to be a vector of 784 length\n",
    "        input_img = Variable(X.view(-1, 784))\n",
    "        # Store the value in an Autograd Variable so that gradient calculations can be done on it\n",
    "        labels = Variable(y)\n",
    "        # Make the gradients 0 to find the next gradient, ensuring it does accumulate over mulitple propogations\n",
    "        # This is needed due to PyTorch's Autograd functionality\n",
    "        optimizer.zero_grad()\n",
    "        # Get the output from the linear layer (applies weights through matrix multiplcation and adds bias bias)\n",
    "        output = net(input_img)\n",
    "        # Determine softmax output on the output and the corresponding cross-entropy losses given the ground truth labels\n",
    "        loss = losses(output, labels)\n",
    "        # Back propogate all of the network parameters\n",
    "        loss.backward()\n",
    "        # Update the parameters\n",
    "        optimizer.step()\n",
    "        # Add the losses for the network\n",
    "        running_loss = running_loss + loss.item()\n",
    "        # Because no validation set is present, find the losses and accuracy\n",
    "        # for the training data and leave the test set untouched\n",
    "        # Using softmax; greatest output will be have highest softmax output/score\n",
    "        # Therefore, find the index of the maximum value along dimension 1\n",
    "        _, predictions = torch.max(output, 1)\n",
    "        # Store the number of correctly predicted and incorrectly predicted values in the batch\n",
    "        incorrect += (predictions != y).sum()\n",
    "        correct+= (predictions == y).sum()\n",
    "    \n",
    "    # Find the loss for the epoch\n",
    "    loss = running_loss/len(trainloader)\n",
    "    # If the current set of model parameters have resulted in the lowest losses, store the parameters to the \n",
    "    # model path above\n",
    "    if loss < nn_min_loss:\n",
    "        torch.save(net.state_dict(), nn_model_path)\n",
    "    # Log the losses and accuracy for the epoch\n",
    "    print(f\"Epoch {e + 1} - Loss: {loss}; Accuracy {correct.item()/((correct + incorrect).item())}\")"
   ]
  },
  {
   "cell_type": "code",
   "execution_count": 17,
   "metadata": {
    "colab": {
     "base_uri": "https://localhost:8080/",
     "height": 34
    },
    "colab_type": "code",
    "id": "Ll286pFQXG2W",
    "outputId": "d1fb244e-a193-4e71-b875-3525b29362c5"
   },
   "outputs": [],
   "source": [
    "# Determine accuracy on testing data\n",
    "def get_nn_accuracy(custom_model=None):\n",
    "    # Check if model parameters are given or not\n",
    "    if custom_model is not None: \n",
    "        # Load the model parameters from the path stored in custom_model\n",
    "        net.load_state_dict(torch.load(custom_model))\n",
    "    \n",
    "    # Constants to store correct and incorrect predictions\n",
    "    correct = 0\n",
    "    incorrect = 0\n",
    "    \n",
    "    # Don't store intermediate values which would be needed for backpropgation (memory saving)\n",
    "    with torch.no_grad():\n",
    "        # Go through the images in each batch of the testloader\n",
    "        for images, labels in testloader:\n",
    "            # Reshape image to be a vector of 784 length\n",
    "            images = images.view(-1, 784)\n",
    "            # Get the output from the linear layer (applies weights through matrix multiplcation and adds bias bias)\n",
    "            # In other words, conducts a forward pass on the images\n",
    "            outputs = net(images)\n",
    "            # Using softmax; greatest output will be have highest softmax output/score\n",
    "            # Therefore, find the index of the maximum value along dimension 1\n",
    "            _, predicted = torch.max(outputs, 1)\n",
    "            # Store the number of correctly predicted and incorrectly predicted values in the batch\n",
    "            incorrect += (predicted != labels).sum()\n",
    "            correct+= (predicted == labels).sum()\n",
    "        # Determine the accuracy\n",
    "        total = correct + incorrect\n",
    "        accuracy = correct.item()/total.item()\n",
    "    return accuracy"
   ]
  },
  {
   "cell_type": "markdown",
   "metadata": {},
   "source": [
    "Test model accuracy using testing data"
   ]
  },
  {
   "cell_type": "code",
   "execution_count": 18,
   "metadata": {
    "colab": {},
    "colab_type": "code",
    "id": "66gOJuvi9j4S"
   },
   "outputs": [
    {
     "data": {
      "text/plain": [
       "0.9238"
      ]
     },
     "execution_count": 18,
     "metadata": {},
     "output_type": "execute_result"
    }
   ],
   "source": [
    "get_nn_accuracy()"
   ]
  },
  {
   "cell_type": "markdown",
   "metadata": {},
   "source": [
    "Plots of 10 random test data and their corresponding results"
   ]
  },
  {
   "cell_type": "code",
   "execution_count": 19,
   "metadata": {
    "colab": {
     "base_uri": "https://localhost:8080/",
     "height": 1000
    },
    "colab_type": "code",
    "id": "adoaHoyc34zI",
    "outputId": "23015763-e17b-45c8-d5c9-3efb1b591321"
   },
   "outputs": [
    {
     "data": {
      "image/png": "[encoded data removed]",
      "text/plain": [
       "<Figure size 432x288 with 1 Axes>"
      ]
     },
     "metadata": {
      "needs_background": "light"
     },
     "output_type": "display_data"
    },
    {
     "name": "stdout",
     "output_type": "stream",
     "text": [
      "Predicted: 2\n",
      "Correct Label: 2\n",
      "\n",
      "\n"
     ]
    },
    {
     "data": {
      "image/png": "[encoded data removed]",
      "text/plain": [
       "<Figure size 432x288 with 1 Axes>"
      ]
     },
     "metadata": {
      "needs_background": "light"
     },
     "output_type": "display_data"
    },
    {
     "name": "stdout",
     "output_type": "stream",
     "text": [
      "Predicted: 3\n",
      "Correct Label: 9\n",
      "\n",
      "\n"
     ]
    },
    {
     "data": {
      "image/png": "[encoded data removed]",
      "text/plain": [
       "<Figure size 432x288 with 1 Axes>"
      ]
     },
     "metadata": {
      "needs_background": "light"
     },
     "output_type": "display_data"
    },
    {
     "name": "stdout",
     "output_type": "stream",
     "text": [
      "Predicted: 2\n",
      "Correct Label: 2\n",
      "\n",
      "\n"
     ]
    },
    {
     "data": {
      "image/png": "[encoded data removed]",
      "text/plain": [
       "<Figure size 432x288 with 1 Axes>"
      ]
     },
     "metadata": {
      "needs_background": "light"
     },
     "output_type": "display_data"
    },
    {
     "name": "stdout",
     "output_type": "stream",
     "text": [
      "Predicted: 9\n",
      "Correct Label: 9\n",
      "\n",
      "\n"
     ]
    },
    {
     "data": {
      "image/png": "[encoded data removed]",
      "text/plain": [
       "<Figure size 432x288 with 1 Axes>"
      ]
     },
     "metadata": {
      "needs_background": "light"
     },
     "output_type": "display_data"
    },
    {
     "name": "stdout",
     "output_type": "stream",
     "text": [
      "Predicted: 1\n",
      "Correct Label: 1\n",
      "\n",
      "\n"
     ]
    },
    {
     "data": {
      "image/png": "[encoded data removed]",
      "text/plain": [
       "<Figure size 432x288 with 1 Axes>"
      ]
     },
     "metadata": {
      "needs_background": "light"
     },
     "output_type": "display_data"
    },
    {
     "name": "stdout",
     "output_type": "stream",
     "text": [
      "Predicted: 8\n",
      "Correct Label: 8\n",
      "\n",
      "\n"
     ]
    },
    {
     "data": {
      "image/png": "[encoded data removed]",
      "text/plain": [
       "<Figure size 432x288 with 1 Axes>"
      ]
     },
     "metadata": {
      "needs_background": "light"
     },
     "output_type": "display_data"
    },
    {
     "name": "stdout",
     "output_type": "stream",
     "text": [
      "Predicted: 9\n",
      "Correct Label: 9\n",
      "\n",
      "\n"
     ]
    },
    {
     "data": {
      "image/png": "[encoded data removed]",
      "text/plain": [
       "<Figure size 432x288 with 1 Axes>"
      ]
     },
     "metadata": {
      "needs_background": "light"
     },
     "output_type": "display_data"
    },
    {
     "name": "stdout",
     "output_type": "stream",
     "text": [
      "Predicted: 4\n",
      "Correct Label: 4\n",
      "\n",
      "\n"
     ]
    },
    {
     "data": {
      "image/png": "[encoded data removed]",
      "text/plain": [
       "<Figure size 432x288 with 1 Axes>"
      ]
     },
     "metadata": {
      "needs_background": "light"
     },
     "output_type": "display_data"
    },
    {
     "name": "stdout",
     "output_type": "stream",
     "text": [
      "Predicted: 1\n",
      "Correct Label: 1\n",
      "\n",
      "\n"
     ]
    },
    {
     "data": {
      "image/png": "[encoded data removed]",
      "text/plain": [
       "<Figure size 432x288 with 1 Axes>"
      ]
     },
     "metadata": {
      "needs_background": "light"
     },
     "output_type": "display_data"
    },
    {
     "name": "stdout",
     "output_type": "stream",
     "text": [
      "Predicted: 1\n",
      "Correct Label: 1\n",
      "\n",
      "\n"
     ]
    }
   ],
   "source": [
    "it = iter(testloader)\n",
    "# Don't store intermediate values which would be needed for backpropgation (memory saving)\n",
    "with torch.no_grad():\n",
    "    for i in range(10):\n",
    "        # Get a random index value for an index in the batch\n",
    "        idx = np.random.randint(0, 99, 1)[0]\n",
    "        # Use the random index to get an image, label in the batch\n",
    "        image, label = [x[idx] for x in next(it)]\n",
    "        # Reshape image to be a vector of 784 length\n",
    "        img = image.view(-1, 784)\n",
    "        # Forward propograte value through network\n",
    "        out= net(img)\n",
    "        # Using softmax; greatest output will be have highest softmax output/score\n",
    "        # Therefore, find the index of the maximum value along dimension 1\n",
    "        _, predicted = torch.max(out, 1)\n",
    "        # Display the images, their corresponding labels and predicted values\n",
    "        plt.imshow(image.numpy().reshape(28, 28));\n",
    "        plt.show()\n",
    "        print(f'Predicted: {predicted.item()}')\n",
    "        print(f'Correct Label: {label.item()}')\n",
    "        print('\\n')"
   ]
  },
  {
   "cell_type": "markdown",
   "metadata": {
    "colab_type": "text",
    "id": "1zo9CUBhX8Hx"
   },
   "source": [
    "### PyTorch Implementation: MLP for MNIST Data"
   ]
  },
  {
   "cell_type": "code",
   "execution_count": 24,
   "metadata": {
    "colab": {},
    "colab_type": "code",
    "id": "WEm0q8qnzdy0"
   },
   "outputs": [],
   "source": [
    "# Define a neural network structure/class, subclass of the torch.nn.Module class \n",
    "class MyMLP(torch.nn.Module):\n",
    "    # Initialization function, taking in the input dimensions, hidden layer dimensions \n",
    "    # and output dimensions for the network\n",
    "    def __init__(self, input_dim, hidden_dim, output_dim):\n",
    "        # Initialization of the super/parent class\n",
    "        super(MyMLP, self).__init__()\n",
    "        # Initialize two linear layers, one for the input and one for the hidden layer\n",
    "        # Each layer applies a linear transformation to the data using weights and bias\n",
    "        # The weights and bias are randomly initialized when the network is initialized\n",
    "        self.linear = torch.nn.Linear(input_dim, hidden_dim, bias=True)\n",
    "        self.hidden = torch.nn.Linear(hidden_dim, output_dim, bias=True)\n",
    "    \n",
    "    # Function called for the forward pass of the network, going through the layers\n",
    "    def forward(self, x):\n",
    "        # Forward propogate data through first layer and get the output\n",
    "        first_layer_output = self.linear(x)\n",
    "        # Take the output and apply Relu activation\n",
    "        activation_output = func.relu(first_layer_output)\n",
    "        # Take output from Relu and go through last layer\n",
    "        # On this output, softmax will be computed and the corresponding losses\n",
    "        hidden_layer_output = self.hidden(activation_output)\n",
    "        return hidden_layer_output\n",
    "\n",
    "# Initialize the neural network, defining parameters for the input layer, hidden layer, and output layer\n",
    "mlp_net = MyMLP(784, 512, 10)\n",
    "\n",
    "# Update model initialization to make biases 0.1 and for weights to be from \n",
    "# a normal distribution with a mean of 0 and standard deviation of 0.1\n",
    "# This is done for the input layer and the hidden layer\n",
    "# torch.ones_like() creates a tensor of the same shape as the input which is then filled with 0.1\n",
    "mlp_net.linear.bias.data = torch.ones_like(mlp_net.linear.bias).fill_(0.1)\n",
    "# torch.ones_like() creates a tensor of the same shape as the input which is then filled with values\n",
    "# from a normal distribution with a mean of 0 and std of 0.1\n",
    "mlp_net.linear.weight.data = torch.ones_like(mlp_net.linear.weight).normal_(mean=0, std=0.1)\n",
    "mlp_net.hidden.bias.data = torch.ones_like(mlp_net.hidden.bias).fill_(0.1)\n",
    "mlp_net.hidden.weight.data = torch.ones_like(mlp_net.hidden.weight).normal_(mean=0, std=0.1)\n",
    "\n",
    "# Compute the softmax values/scores and corresponding cross entropy loss\n",
    "losses = torch.nn.CrossEntropyLoss()\n",
    "# Use Adam optimizer to optimize network work parameters, given by mlp_net.parameters()\n",
    "optimizer = torch.optim.Adam(mlp_net.parameters(), lr=1e-4)"
   ]
  },
  {
   "cell_type": "code",
   "execution_count": 25,
   "metadata": {
    "colab": {
     "base_uri": "https://localhost:8080/",
     "height": 451
    },
    "colab_type": "code",
    "id": "toA5f1pXO7iT",
    "outputId": "9130a9e5-8826-42c8-8e5d-f2d2c6d141bd"
   },
   "outputs": [
    {
     "name": "stdout",
     "output_type": "stream",
     "text": [
      "Epoch 1 - Loss: 0.6533126013974349; Accuracy 0.80985\n",
      "Epoch 2 - Loss: 0.269841339836518; Accuracy 0.9245\n",
      "Epoch 3 - Loss: 0.2110918390005827; Accuracy 0.9408333333333333\n",
      "Epoch 4 - Loss: 0.1768977092516919; Accuracy 0.95025\n",
      "Epoch 5 - Loss: 0.15268591975793241; Accuracy 0.9576166666666667\n",
      "Epoch 6 - Loss: 0.1338459274545312; Accuracy 0.9628833333333333\n",
      "Epoch 7 - Loss: 0.11889926378925642; Accuracy 0.96655\n",
      "Epoch 8 - Loss: 0.10627974348142744; Accuracy 0.9713666666666667\n",
      "Epoch 9 - Loss: 0.09568245253215234; Accuracy 0.9743166666666667\n",
      "Epoch 10 - Loss: 0.08661224730623265; Accuracy 0.9768833333333333\n",
      "Epoch 11 - Loss: 0.07903332486748696; Accuracy 0.9795333333333334\n",
      "Epoch 12 - Loss: 0.07202987255218128; Accuracy 0.9812166666666666\n",
      "Epoch 13 - Loss: 0.06576507807243616; Accuracy 0.9833666666666666\n",
      "Epoch 14 - Loss: 0.060383962290361526; Accuracy 0.9846833333333334\n",
      "Epoch 15 - Loss: 0.0555559996360292; Accuracy 0.9863666666666666\n",
      "Epoch 16 - Loss: 0.05099036961017797; Accuracy 0.9881666666666666\n",
      "Epoch 17 - Loss: 0.047175123165361585; Accuracy 0.9887833333333333\n",
      "Epoch 18 - Loss: 0.04339477321288238; Accuracy 0.9897333333333334\n",
      "Epoch 19 - Loss: 0.04028553588471065; Accuracy 0.9905166666666667\n",
      "Epoch 20 - Loss: 0.03699799678366011; Accuracy 0.9916666666666667\n",
      "Epoch 21 - Loss: 0.03452728511610379; Accuracy 0.99245\n",
      "Epoch 22 - Loss: 0.03166436908378576; Accuracy 0.99335\n",
      "Epoch 23 - Loss: 0.02933790583551551; Accuracy 0.9937833333333334\n",
      "Epoch 24 - Loss: 0.02734005975226561; Accuracy 0.9944333333333333\n",
      "Epoch 25 - Loss: 0.024969906898525854; Accuracy 0.9953333333333333\n"
     ]
    }
   ],
   "source": [
    "mlp_min_loss = 100\n",
    "# Path to store the model\n",
    "mlp_model_path = 'mlp_model.pt'\n",
    "epochs = 25\n",
    "for e in range(epochs):\n",
    "    # Get loss per epoch\n",
    "    running_loss = 0\n",
    "    # Constants to store the number of correct and incorrect predictions during training\n",
    "    correct = 0\n",
    "    incorrect = 0\n",
    "    for i, (X, y) in enumerate(trainloader):\n",
    "        # Reshape image to be a vector of 784 length\n",
    "        input_img = Variable(X.view(-1, 784))\n",
    "        # Store the value in an Autograd Variable so that gradient calculations can be done on it\n",
    "        labels = Variable(y)\n",
    "        # Make the gradients 0 to find the next gradient, ensuring it does accumulate over mulitple propogations\n",
    "        optimizer.zero_grad()\n",
    "        # Forward pass; propogate the batch forward through the network \n",
    "        output = mlp_net(input_img)\n",
    "        # Determine softmax scores and corresponding cross-entropy losses given the ground truth values\n",
    "        loss = losses(output, labels)\n",
    "        # Back propogate all of the network parameters \n",
    "        loss.backward()\n",
    "        # Update the parameters\n",
    "        optimizer.step()\n",
    "        # Add the losses for the network\n",
    "        running_loss = running_loss + loss.item()\n",
    "        # Because no validation set is present, find the losses and accuracy\n",
    "        # for the training data and leave the test set untouched\n",
    "        # Using softmax; greatest output will be have highest softmax output/score\n",
    "        # Therefore, find the index of the maximum value along dimension 1\n",
    "        _, predictions = torch.max(output, 1)\n",
    "         # Store the number of correctly predicted and incorrectly predicted values in the batch\n",
    "        incorrect += (predictions != y).sum()\n",
    "        correct+= (predictions == y).sum()\n",
    "    \n",
    "    # Calculate loss for the epoch\n",
    "    loss = running_loss/len(trainloader)\n",
    "    # If the current set of model parameters have resulted in the lowest losses, store the parameters to the \n",
    "    # model path above\n",
    "    if loss < mlp_min_loss:\n",
    "        torch.save(mlp_net.state_dict(), mlp_model_path) \n",
    "    # Log accuracy and loss for the epoch\n",
    "    print(f\"Epoch {e + 1} - Loss: {loss}; Accuracy {correct.item()/((correct + incorrect).item())}\")"
   ]
  },
  {
   "cell_type": "code",
   "execution_count": 26,
   "metadata": {
    "colab": {
     "base_uri": "https://localhost:8080/",
     "height": 34
    },
    "colab_type": "code",
    "id": "O9M_RqSdPr7Q",
    "outputId": "169223b5-d571-471c-f267-0bf73162f916"
   },
   "outputs": [],
   "source": [
    "# Determine accuracy on testing data\n",
    "def get_mlp_accuracy(custom_model=None):\n",
    "    # Check if model parameters are given or not\n",
    "    if custom_model is not None:\n",
    "        # Load the model parameters from the path stored in custom_model\n",
    "        mlp_net.load_state_dict(torch.load(custom_model))\n",
    "    \n",
    "    # Constants to store correct and incorrect testing predictions\n",
    "    mlp_correct = 0\n",
    "    mlp_incorrect = 0\n",
    "    # Don't store intermediate values which would be needed for backpropgation (memory saving)\n",
    "    with torch.no_grad():\n",
    "        # Go through each batch in the testloader\n",
    "        for images, labels in testloader:\n",
    "            # Reshape images to be a vector of 784 length\n",
    "            images = images.view(-1, 784)\n",
    "            # Forward pass; propogate the batch forward through the network \n",
    "            outputs = mlp_net(images)\n",
    "            # Get the max along axis 1\n",
    "            # Using softmax; highest output will be have highest softmax output\n",
    "            _, predicted = torch.max(outputs, 1)\n",
    "            # Store the number of correctly predicted and incorrectly predicted values in the batch\n",
    "            mlp_incorrect += (predicted != labels).sum()\n",
    "            mlp_correct+= (predicted == labels).sum()\n",
    "        # Calculate accuracy\n",
    "        total = mlp_correct + mlp_incorrect\n",
    "        accuracy = mlp_correct.item()/total.item()\n",
    "    return accuracy"
   ]
  },
  {
   "cell_type": "markdown",
   "metadata": {},
   "source": [
    "Test model accuracy using testing data"
   ]
  },
  {
   "cell_type": "code",
   "execution_count": 27,
   "metadata": {
    "colab": {},
    "colab_type": "code",
    "id": "2RiQ58Qx-ZOg"
   },
   "outputs": [
    {
     "data": {
      "text/plain": [
       "0.9786"
      ]
     },
     "execution_count": 27,
     "metadata": {},
     "output_type": "execute_result"
    }
   ],
   "source": [
    "get_mlp_accuracy()"
   ]
  },
  {
   "cell_type": "markdown",
   "metadata": {},
   "source": [
    "Plots of 10 random test data and their corresponding results"
   ]
  },
  {
   "cell_type": "code",
   "execution_count": 28,
   "metadata": {
    "colab": {
     "base_uri": "https://localhost:8080/",
     "height": 1000
    },
    "colab_type": "code",
    "id": "f1mUBkekT11P",
    "outputId": "bd517f7f-6576-4907-bf98-82b1309a245a"
   },
   "outputs": [
    {
     "data": {
      "image/png": "[encoded data removed]",
      "text/plain": [
       "<Figure size 432x288 with 1 Axes>"
      ]
     },
     "metadata": {
      "needs_background": "light"
     },
     "output_type": "display_data"
    },
    {
     "name": "stdout",
     "output_type": "stream",
     "text": [
      "Predicted: 6\n",
      "Correct Label: 6\n",
      "\n",
      "\n"
     ]
    },
    {
     "data": {
      "image/png": "[encoded data removed]",
      "text/plain": [
       "<Figure size 432x288 with 1 Axes>"
      ]
     },
     "metadata": {
      "needs_background": "light"
     },
     "output_type": "display_data"
    },
    {
     "name": "stdout",
     "output_type": "stream",
     "text": [
      "Predicted: 7\n",
      "Correct Label: 7\n",
      "\n",
      "\n"
     ]
    },
    {
     "data": {
      "image/png": "[encoded data removed]",
      "text/plain": [
       "<Figure size 432x288 with 1 Axes>"
      ]
     },
     "metadata": {
      "needs_background": "light"
     },
     "output_type": "display_data"
    },
    {
     "name": "stdout",
     "output_type": "stream",
     "text": [
      "Predicted: 9\n",
      "Correct Label: 9\n",
      "\n",
      "\n"
     ]
    },
    {
     "data": {
      "image/png": "[encoded data removed]",
      "text/plain": [
       "<Figure size 432x288 with 1 Axes>"
      ]
     },
     "metadata": {
      "needs_background": "light"
     },
     "output_type": "display_data"
    },
    {
     "name": "stdout",
     "output_type": "stream",
     "text": [
      "Predicted: 7\n",
      "Correct Label: 3\n",
      "\n",
      "\n"
     ]
    },
    {
     "data": {
      "image/png": "[encoded data removed]",
      "text/plain": [
       "<Figure size 432x288 with 1 Axes>"
      ]
     },
     "metadata": {
      "needs_background": "light"
     },
     "output_type": "display_data"
    },
    {
     "name": "stdout",
     "output_type": "stream",
     "text": [
      "Predicted: 1\n",
      "Correct Label: 1\n",
      "\n",
      "\n"
     ]
    },
    {
     "data": {
      "image/png": "[encoded data removed]",
      "text/plain": [
       "<Figure size 432x288 with 1 Axes>"
      ]
     },
     "metadata": {
      "needs_background": "light"
     },
     "output_type": "display_data"
    },
    {
     "name": "stdout",
     "output_type": "stream",
     "text": [
      "Predicted: 8\n",
      "Correct Label: 8\n",
      "\n",
      "\n"
     ]
    },
    {
     "data": {
      "image/png": "[encoded data removed]",
      "text/plain": [
       "<Figure size 432x288 with 1 Axes>"
      ]
     },
     "metadata": {
      "needs_background": "light"
     },
     "output_type": "display_data"
    },
    {
     "name": "stdout",
     "output_type": "stream",
     "text": [
      "Predicted: 3\n",
      "Correct Label: 3\n",
      "\n",
      "\n"
     ]
    },
    {
     "data": {
      "image/png": "[encoded data removed]",
      "text/plain": [
       "<Figure size 432x288 with 1 Axes>"
      ]
     },
     "metadata": {
      "needs_background": "light"
     },
     "output_type": "display_data"
    },
    {
     "name": "stdout",
     "output_type": "stream",
     "text": [
      "Predicted: 5\n",
      "Correct Label: 5\n",
      "\n",
      "\n"
     ]
    },
    {
     "data": {
      "image/png": "[encoded data removed]",
      "text/plain": [
       "<Figure size 432x288 with 1 Axes>"
      ]
     },
     "metadata": {
      "needs_background": "light"
     },
     "output_type": "display_data"
    },
    {
     "name": "stdout",
     "output_type": "stream",
     "text": [
      "Predicted: 3\n",
      "Correct Label: 3\n",
      "\n",
      "\n"
     ]
    },
    {
     "data": {
      "image/png": "[encoded data removed]",
      "text/plain": [
       "<Figure size 432x288 with 1 Axes>"
      ]
     },
     "metadata": {
      "needs_background": "light"
     },
     "output_type": "display_data"
    },
    {
     "name": "stdout",
     "output_type": "stream",
     "text": [
      "Predicted: 1\n",
      "Correct Label: 1\n",
      "\n",
      "\n"
     ]
    }
   ],
   "source": [
    "# Plots of 10 random test data and their corresponding results\n",
    "it = iter(testloader)\n",
    "# Don't store intermediate values which would be needed for backpropgation (memory saving)\n",
    "with torch.no_grad():\n",
    "    for i in range(10):\n",
    "        # Get a random index value for an index in the batch\n",
    "        idx = np.random.randint(0, 99, 1)[0]\n",
    "        # Use the random index to get an image, label in the batch\n",
    "        image, label = [x[idx] for x in next(it)]\n",
    "        # Reshape image to be a vector of 784 length\n",
    "        img = image.view(-1, 784)\n",
    "        # Forward propogate value through the network\n",
    "        out= mlp_net(img)\n",
    "        # Using softmax; greatest output will be have highest softmax output/score\n",
    "        # Therefore, find the index of the maximum value along dimension 1\n",
    "        _, predicted = torch.max(out, 1)\n",
    "        # Display the images, their corresponding labels and predicted values\n",
    "        plt.imshow(image.numpy().reshape(28, 28));\n",
    "        plt.show()\n",
    "        print(f'Predicted: {predicted.item()}')\n",
    "        print(f'Correct Label: {label.item()}')\n",
    "        print('\\n')"
   ]
  },
  {
   "cell_type": "markdown",
   "metadata": {
    "colab_type": "text",
    "id": "lhLSfzefVP5v"
   },
   "source": [
    "### PyTorch implementation of LeNet"
   ]
  },
  {
   "cell_type": "code",
   "execution_count": 5,
   "metadata": {
    "colab": {},
    "colab_type": "code",
    "id": "yrmTICerVZJr"
   },
   "outputs": [],
   "source": [
    "# Define a neural network structure/class, subclass of the torch.nn.Module class \n",
    "class MyLeNet(torch.nn.Module):\n",
    "    # Initialization function, taking in the input dimensions, hidden dimensions, and output dimensions for the network\n",
    "    def __init__(self, input_dim, hidden_dim, output_dim):\n",
    "        # Initialization of the super/parent class\n",
    "        super(MyLeNet, self).__init__()\n",
    "        # Define the first convolutional layer:\n",
    "        # This network takes in a 1 channel input (greyscale) and outputs 32 channels (for 32 kernels)\n",
    "        # Layer uses kernels of 5 by 5 dimension, with a stride of 1 and padding of 2 to keep the output the\n",
    "        # same dimension as the input dimension\n",
    "        self.conv1 = torch.nn.Conv2d(in_channels=1, out_channels=32, kernel_size=5, \n",
    "                        stride=1, padding=2)\n",
    "        # Define the first maxpooling layer using a 2 by 2 window with a stride of 2 and 0 padding, \n",
    "        # halfing the initial input width\n",
    "        self.maxpool1 = torch.nn.MaxPool2d(kernel_size=2, stride=2, padding=0)\n",
    "        # Define the second convolutional layer:\n",
    "        # Take in the 32 channels from the previous layer and 64 channels (for 64 kernels)\n",
    "        # Layer uses kernels of 5 by 5 dimension, with a stride of 1 and padding of 2 to keep the output the\n",
    "        # same dimension as the input dimension\n",
    "        self.conv2 = torch.nn.Conv2d(in_channels=32, out_channels=64,\n",
    "                        kernel_size=5, stride=1, padding=2)\n",
    "        # Define second max pooling layer using a 2 by 2 window with a stride of 2 and 0 padding, \n",
    "        # halfing the input width, resulting in the width being 1/4 of its original size\n",
    "        self.maxpool2 = torch.nn.MaxPool2d(kernel_size=2, stride=2, padding=0)\n",
    "        # Hidden Layer: Applies a linear transformation on the input using weights and bias\n",
    "        self.hidden = torch.nn.Linear(7*7*64, 1024, bias=True)\n",
    "        # Dropout layer\n",
    "        self.drop_out = torch.nn.Dropout()\n",
    "        # Output layer: applying a linear transformation to the input using the weights and bias\n",
    "        # On these output values, softmax scores and corresponding losses are computed\n",
    "        self.output_layer = torch.nn.Linear(1024, 10, bias=True)\n",
    "\n",
    "    # Function called for the forward pass of the network, going through the layers\n",
    "    def forward(self, x):\n",
    "        # Go through first convolutional layer (followed by ReLu and MaxPooling)\n",
    "        first_layer_output = self.conv1(x)\n",
    "        act_output = func.relu(first_layer_output)\n",
    "        max_pool_output1 = self.maxpool1(act_output)\n",
    "        # Go through the second convolutional layer (followed by ReLu and MaxPooling)\n",
    "        second_layer_output = self.conv2(max_pool_output1)\n",
    "        act_output_2 = func.relu(second_layer_output)\n",
    "        max_pool_output2 = self.maxpool2(act_output_2)\n",
    "        # Flatten the image before going into the hidden lyer (first fully connected layer)\n",
    "        # Where input_dim is 7*7*64\n",
    "        max_pool_output2 = Variable(max_pool_output2.view(-1, 7*7*64))\n",
    "        # Go through hidden layer after the input has been flattened; applies a linear transformation\n",
    "        hidden_layer_output = self.hidden(max_pool_output2)\n",
    "        # Apply ReLu activation\n",
    "        activation_output = func.relu(hidden_layer_output)\n",
    "        # Apply Dropout regularization\n",
    "        dropout_layer_output = self.drop_out(activation_output)\n",
    "        # Go through final layer to get network output\n",
    "        output_layer = self.output_layer(dropout_layer_output)\n",
    "        return output_layer\n",
    "    \n",
    "    # Define a function which updates the bias to be 0.1 for the linear layers  (hidden and output)\n",
    "    def update_bias_variable(self, layer):\n",
    "        layer.bias.data = torch.ones_like(layer.bias).fill_(0.1)\n",
    "        return layer.bias.data\n",
    "    \n",
    "    # Define a function which updates the weights to come from a normal distribution with a mean of 0 and std of 0.1\n",
    "    # for the hidden and output layers\n",
    "    def update_weight_variable(self, layer):\n",
    "        layer.weight.data = torch.ones_like(layer.weight).normal_(mean=0, std=0.1)\n",
    "        return layer.weight.data\n",
    "\n",
    "# Initialize the neural network with the required network parameters\n",
    "le_net = MyLeNet(7*7*64, 1024, 10)\n",
    "\n",
    "# Update model initialization to make biases 0.1 and for weights to be from \n",
    "# a normal distribution with a mean of 0 and standard deviation of 0.1\n",
    "# Do this for both the hidden layer and output layer and the convolutional layers\n",
    "le_net.conv1.weight.data = le_net.update_weight_variable(le_net.conv1)\n",
    "le_net.conv1.bias.data = le_net.update_bias_variable(le_net.conv1)\n",
    "le_net.conv2.weight.data = le_net.update_weight_variable(le_net.conv2)\n",
    "le_net.conv2.bias.data = le_net.update_bias_variable(le_net.conv2)\n",
    "le_net.output_layer.bias.data = le_net.update_bias_variable(le_net.output_layer)\n",
    "le_net.output_layer.weight.data = le_net.update_weight_variable(le_net.output_layer)\n",
    "le_net.hidden.bias.data = le_net.update_bias_variable(le_net.hidden)\n",
    "le_net.hidden.weight.data = le_net.update_weight_variable(le_net.hidden)\n",
    "\n",
    "# Compute the softmax values/scores and corresponding cross entropy loss\n",
    "le_net_losses = torch.nn.CrossEntropyLoss()\n",
    "# Use Adam optimizer to find optimal network parameters, given by net.parameters() \n",
    "# Using a learning rate of 1e-4\n",
    "optimizer = torch.optim.Adam(le_net.parameters(), lr=1e-4)"
   ]
  },
  {
   "cell_type": "code",
   "execution_count": 7,
   "metadata": {
    "colab": {
     "base_uri": "https://localhost:8080/",
     "height": 236
    },
    "colab_type": "code",
    "id": "V0IxxyC8Wt85",
    "outputId": "5d7ebce4-deac-444a-beee-ad45978e0db8"
   },
   "outputs": [
    {
     "name": "stdout",
     "output_type": "stream",
     "text": [
      "Epoch 1 - Loss: 0.39462067975352205; Accuracy 0.8777166666666667\n",
      "Epoch 2 - Loss: 0.24995086766779423; Accuracy 0.9229166666666667\n",
      "Epoch 3 - Loss: 0.19519600190222264; Accuracy 0.9384333333333333\n",
      "Epoch 4 - Loss: 0.16024942882359028; Accuracy 0.9508\n",
      "Epoch 5 - Loss: 0.13938931771554053; Accuracy 0.9563666666666667\n",
      "Epoch 6 - Loss: 0.12386458725047608; Accuracy 0.96135\n",
      "Epoch 7 - Loss: 0.10818989575219651; Accuracy 0.9662\n",
      "Epoch 8 - Loss: 0.09965452332049608; Accuracy 0.9685833333333334\n",
      "Epoch 9 - Loss: 0.09156686870536457; Accuracy 0.9713833333333334\n",
      "Epoch 10 - Loss: 0.08332942155655473; Accuracy 0.9743833333333334\n",
      "Epoch 11 - Loss: 0.07940736230307568; Accuracy 0.9749333333333333\n",
      "Epoch 12 - Loss: 0.0737138910482948; Accuracy 0.9767\n",
      "Epoch 13 - Loss: 0.06971043222816661; Accuracy 0.97795\n",
      "Epoch 14 - Loss: 0.06264417406714831; Accuracy 0.9798833333333333\n",
      "Epoch 15 - Loss: 0.05917269036639482; Accuracy 0.9818833333333333\n",
      "Epoch 16 - Loss: 0.05927161291629697; Accuracy 0.9813666666666667\n",
      "Epoch 17 - Loss: 0.053879309346278506; Accuracy 0.9824833333333334\n",
      "Epoch 18 - Loss: 0.05234090344825139; Accuracy 0.98295\n",
      "Epoch 19 - Loss: 0.0493652137562943; Accuracy 0.9840333333333333\n",
      "Epoch 20 - Loss: 0.04606920208199881; Accuracy 0.98565\n",
      "Epoch 21 - Loss: 0.04517523050463448; Accuracy 0.9850666666666666\n",
      "Epoch 22 - Loss: 0.04283227379162175; Accuracy 0.9854\n",
      "Epoch 23 - Loss: 0.041671135508610554; Accuracy 0.9869333333333333\n",
      "Epoch 24 - Loss: 0.04022425570253593; Accuracy 0.98675\n",
      "Epoch 25 - Loss: 0.0381562858420269; Accuracy 0.9875\n",
      "Epoch 26 - Loss: 0.03530102228115235; Accuracy 0.98845\n",
      "Epoch 27 - Loss: 0.03458230233285576; Accuracy 0.9890333333333333\n",
      "Epoch 28 - Loss: 0.035286664269127264; Accuracy 0.9886333333333334\n",
      "Epoch 29 - Loss: 0.03167702720500529; Accuracy 0.9893833333333333\n",
      "Epoch 30 - Loss: 0.030775806897436267; Accuracy 0.9895333333333334\n"
     ]
    }
   ],
   "source": [
    "# Constant to store losses\n",
    "min_loss = 100\n",
    "# Define the path to store the model parameters which minimizes losses\n",
    "le_net_model_path = 'le_net_model.pt'\n",
    "epochs = 30\n",
    "for e in range(epochs):\n",
    "    # Get loss per epoch\n",
    "    running_loss = 0\n",
    "    # Constants to store the number of correct and incorrect predictions during training\n",
    "    correct = 0\n",
    "    incorrect= 0\n",
    "    for i, (X, y) in enumerate(trainloader):\n",
    "        # Store the values in Autograd Variables so that gradient calculations can be done on it\n",
    "        input_img = Variable(X)\n",
    "        labels = Variable(y)\n",
    "        # Make the gradients 0 to find the next gradient, ensuring it does accumulate over mulitple propogations\n",
    "        optimizer.zero_grad()\n",
    "        # Forward pass; forward propogate the bathch of images\n",
    "        output = le_net(input_img)\n",
    "        # Determine softmax and corresponding cross-entropy losses\n",
    "        loss = le_net_losses(output, labels)\n",
    "        # Back propogate all of the network parameters\n",
    "        loss.backward()\n",
    "        # Update the parameters\n",
    "        optimizer.step()\n",
    "        # Determine loss for the epoch\n",
    "        running_loss = running_loss + loss.item()\n",
    "        # Because no validation set is present, find the losses and accuracy\n",
    "        # for the training data and leave the test set untouched\n",
    "        # Using softmax; greatest output will be have highest softmax output/score\n",
    "        # Therefore, find the index of the maximum value along dimension 1\n",
    "        _, predicted = torch.max(output, 1)\n",
    "        # Store the number of correctly predicted and incorrectly predicted values in the batch\n",
    "        incorrect += (predicted != y).sum()\n",
    "        correct+= (predicted == y).sum()\n",
    "    \n",
    "    # Find the loss for the current epoch\n",
    "    loss = running_loss/len(trainloader)\n",
    "    # If the current set of model parameters have resulted in the lowest losses, store the parameters to the \n",
    "    # model path above\n",
    "    if loss < min_loss:\n",
    "        torch.save(le_net.state_dict(), le_net_model_path) \n",
    "    # Log the losses and accuracy for the epoch\n",
    "    print(f\"Epoch {e + 1} - Loss: {loss}; Accuracy {correct.item()/((correct + incorrect).item())}\")"
   ]
  },
  {
   "cell_type": "code",
   "execution_count": 11,
   "metadata": {
    "colab": {
     "base_uri": "https://localhost:8080/",
     "height": 34
    },
    "colab_type": "code",
    "id": "p0HdFdZo6SK7",
    "outputId": "3ed853a1-18d8-4f9b-b6e3-4a4a712f686d"
   },
   "outputs": [],
   "source": [
    "# Determine accuracy on testing data\n",
    "def get_le_net_accuracy(custom_model=None):\n",
    "    # Check if model parameters are given or not\n",
    "    if custom_model is not None:\n",
    "        # Load the model parameters from the path stored in custom_model\n",
    "        le_net.load_state_dict(torch.load(custom_model))\n",
    "    \n",
    "    # Constants to store correct and incorrect predictions\n",
    "    le_net_correct = 0\n",
    "    le_net_incorrect = 0\n",
    "    # Don't store intermediate values which would be needed for backpropgation (memory saving)\n",
    "    with torch.no_grad():\n",
    "        # Go through the batches in the testloader\n",
    "        for (images, labels) in testloader:\n",
    "            # Forward pass; forward propogate the batch of images through the network\n",
    "            outputs = le_net(images)\n",
    "            # Using softmax; greatest output will be have highest softmax output/score\n",
    "            # Therefore, find the index of the maximum value along dimension 1\n",
    "            _, predicted = torch.max(outputs, 1)\n",
    "            # Store the number of correctly predicted and incorrectly predicted values in the batch\n",
    "            le_net_incorrect += (predicted != labels).sum()\n",
    "            le_net_correct+= (predicted == labels).sum()\n",
    "    # Determine Accuracy\n",
    "    total = le_net_correct + le_net_incorrect\n",
    "    accuracy = le_net_correct.item()/total.item()\n",
    "    return accuracy"
   ]
  },
  {
   "cell_type": "markdown",
   "metadata": {},
   "source": [
    "Test model accuracy using testing data"
   ]
  },
  {
   "cell_type": "code",
   "execution_count": 30,
   "metadata": {
    "colab": {},
    "colab_type": "code",
    "id": "IOt3nTly-mNF"
   },
   "outputs": [
    {
     "data": {
      "text/plain": [
       "0.983"
      ]
     },
     "execution_count": 30,
     "metadata": {},
     "output_type": "execute_result"
    }
   ],
   "source": [
    "get_le_net_accuracy()"
   ]
  },
  {
   "cell_type": "markdown",
   "metadata": {},
   "source": [
    "Plots of 10 random test data and their corresponding results"
   ]
  },
  {
   "cell_type": "code",
   "execution_count": 8,
   "metadata": {
    "colab": {
     "base_uri": "https://localhost:8080/",
     "height": 1000
    },
    "colab_type": "code",
    "id": "5sjQWWaU8jXn",
    "outputId": "72791798-bd26-4206-ac34-83637041ad8d"
   },
   "outputs": [
    {
     "data": {
      "image/png": "[encoded data removed]",
      "text/plain": [
       "<Figure size 432x288 with 1 Axes>"
      ]
     },
     "metadata": {
      "needs_background": "light"
     },
     "output_type": "display_data"
    },
    {
     "name": "stdout",
     "output_type": "stream",
     "text": [
      "Predicted: 7\n",
      "Correct Label: 7\n",
      "\n",
      "\n"
     ]
    },
    {
     "data": {
      "image/png": "[encoded data removed]",
      "text/plain": [
       "<Figure size 432x288 with 1 Axes>"
      ]
     },
     "metadata": {
      "needs_background": "light"
     },
     "output_type": "display_data"
    },
    {
     "name": "stdout",
     "output_type": "stream",
     "text": [
      "Predicted: 8\n",
      "Correct Label: 8\n",
      "\n",
      "\n"
     ]
    },
    {
     "data": {
      "image/png": "[encoded data removed]",
      "text/plain": [
       "<Figure size 432x288 with 1 Axes>"
      ]
     },
     "metadata": {
      "needs_background": "light"
     },
     "output_type": "display_data"
    },
    {
     "name": "stdout",
     "output_type": "stream",
     "text": [
      "Predicted: 8\n",
      "Correct Label: 8\n",
      "\n",
      "\n"
     ]
    },
    {
     "data": {
      "image/png": "[encoded data removed]",
      "text/plain": [
       "<Figure size 432x288 with 1 Axes>"
      ]
     },
     "metadata": {
      "needs_background": "light"
     },
     "output_type": "display_data"
    },
    {
     "name": "stdout",
     "output_type": "stream",
     "text": [
      "Predicted: 2\n",
      "Correct Label: 2\n",
      "\n",
      "\n"
     ]
    },
    {
     "data": {
      "image/png": "[encoded data removed]",
      "text/plain": [
       "<Figure size 432x288 with 1 Axes>"
      ]
     },
     "metadata": {
      "needs_background": "light"
     },
     "output_type": "display_data"
    },
    {
     "name": "stdout",
     "output_type": "stream",
     "text": [
      "Predicted: 8\n",
      "Correct Label: 8\n",
      "\n",
      "\n"
     ]
    },
    {
     "data": {
      "image/png": "[encoded data removed]",
      "text/plain": [
       "<Figure size 432x288 with 1 Axes>"
      ]
     },
     "metadata": {
      "needs_background": "light"
     },
     "output_type": "display_data"
    },
    {
     "name": "stdout",
     "output_type": "stream",
     "text": [
      "Predicted: 4\n",
      "Correct Label: 4\n",
      "\n",
      "\n"
     ]
    },
    {
     "data": {
      "image/png": "[encoded data removed]",
      "text/plain": [
       "<Figure size 432x288 with 1 Axes>"
      ]
     },
     "metadata": {
      "needs_background": "light"
     },
     "output_type": "display_data"
    },
    {
     "name": "stdout",
     "output_type": "stream",
     "text": [
      "Predicted: 2\n",
      "Correct Label: 2\n",
      "\n",
      "\n"
     ]
    },
    {
     "data": {
      "image/png": "[encoded data removed]",
      "text/plain": [
       "<Figure size 432x288 with 1 Axes>"
      ]
     },
     "metadata": {
      "needs_background": "light"
     },
     "output_type": "display_data"
    },
    {
     "name": "stdout",
     "output_type": "stream",
     "text": [
      "Predicted: 8\n",
      "Correct Label: 8\n",
      "\n",
      "\n"
     ]
    },
    {
     "data": {
      "image/png": "[encoded data removed]",
      "text/plain": [
       "<Figure size 432x288 with 1 Axes>"
      ]
     },
     "metadata": {
      "needs_background": "light"
     },
     "output_type": "display_data"
    },
    {
     "name": "stdout",
     "output_type": "stream",
     "text": [
      "Predicted: 2\n",
      "Correct Label: 2\n",
      "\n",
      "\n"
     ]
    },
    {
     "data": {
      "image/png": "[encoded data removed]",
      "text/plain": [
       "<Figure size 432x288 with 1 Axes>"
      ]
     },
     "metadata": {
      "needs_background": "light"
     },
     "output_type": "display_data"
    },
    {
     "name": "stdout",
     "output_type": "stream",
     "text": [
      "Predicted: 4\n",
      "Correct Label: 4\n",
      "\n",
      "\n"
     ]
    }
   ],
   "source": [
    "# Plots of 10 random test data and their corresponding results\n",
    "iters = iter(testloader)\n",
    "# Don't store intermediate values which would be needed for backpropgation (memory saving)\n",
    "with torch.no_grad():\n",
    "    for r in range(10):\n",
    "        # Get a random index value for an index in the batch\n",
    "        idx = np.random.randint(0, 99, 1)[0]\n",
    "        # Use the random index to get an image, label in the batch\n",
    "        image, label = [x[idx] for x in next(iters)]\n",
    "        # Let the network take in one image\n",
    "        img = Variable(image[None])\n",
    "        # Forward pass: forward propogate the image\n",
    "        out= le_net(img)\n",
    "        # Using softmax; greatest output will be have highest softmax output/score\n",
    "        # Therefore, find the index of the maximum value along dimension 1\n",
    "        _, predicted = torch.max(out, 1)\n",
    "        # Display the images, their corresponding labels and predicted values\n",
    "        plt.imshow(image.numpy().reshape(28, 28));\n",
    "        plt.show()\n",
    "        print(f'Predicted: {predicted.item()}')\n",
    "        print(f'Correct Label: {label.item()}')\n",
    "        print('\\n')"
   ]
  },
  {
   "cell_type": "markdown",
   "metadata": {},
   "source": [
    "### Rerun accuracy test using saved weights"
   ]
  },
  {
   "cell_type": "code",
   "execution_count": 29,
   "metadata": {},
   "outputs": [
    {
     "name": "stdout",
     "output_type": "stream",
     "text": [
      "Softmax Regressor Accuracy: 0.9238\n",
      "MLP Accuracy: 0.9786\n",
      "Le_Net Accuracy: 0.9825\n"
     ]
    }
   ],
   "source": [
    "nn_accuracy = get_nn_accuracy(custom_model='nn_model_path.pt')\n",
    "mlp_accuracy = get_mlp_accuracy(custom_model='mlp_model.pt')\n",
    "le_net_accuracy = get_le_net_accuracy(custom_model='le_net_model.pt')\n",
    "print(f'Softmax Regressor Accuracy: {nn_accuracy}')\n",
    "print(f'MLP Accuracy: {mlp_accuracy}')\n",
    "print(f'Le_Net Accuracy: {le_net_accuracy}')"
   ]
  },
  {
   "cell_type": "code",
   "execution_count": null,
   "metadata": {},
   "outputs": [],
   "source": []
  }
 ],
 "metadata": {
  "accelerator": "GPU",
  "colab": {
   "collapsed_sections": [
    "DYGVabklXG0j"
   ],
   "name": "HW4.ipynb",
   "provenance": []
  },
  "kernelspec": {
   "display_name": "Python 3",
   "language": "python",
   "name": "python3"
  },
  "language_info": {
   "codemirror_mode": {
    "name": "ipython",
    "version": 3
   },
   "file_extension": ".py",
   "mimetype": "text/x-python",
   "name": "python",
   "nbconvert_exporter": "python",
   "pygments_lexer": "ipython3",
   "version": "3.6.8"
  }
 },
 "nbformat": 4,
 "nbformat_minor": 1
}
